{
  "nbformat": 4,
  "nbformat_minor": 0,
  "metadata": {
    "colab": {
      "private_outputs": true,
      "provenance": [],
      "collapsed_sections": [
        "EkxWWMHFpCq8",
        "LYzBhUowptYk",
        "C67FiYJt_6P9",
        "QATLFVn7AUXA",
        "r3Z24dDyHms8",
        "LheKqu7SC7xv",
        "OGFNZb0aDBKo",
        "lABxso5VAIxt",
        "NkWJl2ttg6Fn",
        "25-lvCO4guo5",
        "T8ONtXdptHHz",
        "RMPUwuO6ARuk",
        "WKG7M5YLKSh_",
        "1MLchd8mAhqt",
        "MmTNM8bXAl1K",
        "Pl1Bi1nb6S0u",
        "t-__VpK66Y7Z",
        "HF7zsm35AnnV",
        "LgTA2lK-ApWu",
        "yjVwEWGGAyxW",
        "n82W6WY7AARl",
        "YpwRhXTtSlfr"
      ]
    },
    "kernelspec": {
      "name": "python3",
      "display_name": "Python 3"
    },
    "language_info": {
      "name": "python"
    }
  },
  "cells": [
    {
      "cell_type": "markdown",
      "source": [
        "### Предпосылки и причины ускорения A/B тестов"
      ],
      "metadata": {
        "id": "EkxWWMHFpCq8"
      }
    },
    {
      "cell_type": "markdown",
      "source": [
        "Основная предпосылка для ускорения A/B-тестов — это стремление к **повышению их чувствительности**. Повышение чувствительности теста означает, что при фиксированных вероятностях ошибок он способен обнаруживать эффекты меньшего размера или требует меньший объем данных.\n",
        "\n",
        "Причины для ускорения A/B-тестов включают:\n",
        "*   **Увеличение скорости тестирования гипотез**. Чем быстрее завершается тест, тем больше гипотез можно проверить за определенный промежуток времени, что способствует более быстрому развитию продукта.\n",
        "*   **Сокращение времени ожидания**. Менеджеры часто хотят получать результаты как можно быстрее, а длительные тесты (иногда до 200-400 недель) вызывают недовольство и задерживают принятие решений. Ускорение позволяет уменьшить \"очередь\" тестов и освободить слоты для новых экспериментов.\n",
        "*   **Экономия на данных**. Чувствительные тесты требуют меньшего количества наблюдений, что экономит ресурсы.\n",
        "*   **Выявление малых эффектов**. Маленькие изменения, которые трудно заметить, со временем могут складываться в большие улучшения, принося значительную прибыль. Повышенная чувствительность позволяет обнаруживать такие эффекты.\n",
        "*   **Минимизация негативного влияния**. Если изменение имеет отрицательный эффект, проведение теста на меньшей выборке пользователей снижает потенциальные потери."
      ],
      "metadata": {
        "id": "0wcb77csptVs"
      }
    },
    {
      "cell_type": "markdown",
      "source": [
        "### Методы ускорения A/B-тестов"
      ],
      "metadata": {
        "id": "LYzBhUowptYk"
      }
    },
    {
      "cell_type": "markdown",
      "source": [
        "У всякого A/B теста есть обязательные составляющие, и самым простым и очевидным (но не всегда возможным) способом ускорить тестирование будет их подкрутка:\n",
        "\n",
        "\\\\\n",
        "\n",
        "|№|Составляющая|Что можно сделать|\n",
        "|---|---|---|\n",
        "|1. |Формализация гипотезы |Уточненить гипотезу, чтобы уменьшить количество метрик для проверки. Это, в свою, очередь, поднимет мощность теста, что позволит выбрать менее мощный, но более экономный критерий.|\n",
        "|2. | Количество тестовых групп | Увеличить количество тестируемых групп, чтобы покрыть разные сценарии фичи. Таким образом можно будет обойтись 1 тестом, вместо N.|\n",
        "|3. | Метрики для принятия решений | Выбрать более чувствительные метрики, которые можно прокрасить быстрее.|\n",
        "|4. |Ошибки 1 и 2 рода |Согласиться на более высокие значения ошибок 1 и 2 рода, что снизит необходимый размер выборки и позволит сократить время проведения теста.|\n",
        "|5. | Статистический критерий| Подобрать наиболее мощный критерий, контролирующий ошибку 1 рода на обговорённом уровне. Чем оптимальнее критерий, тем меньше можно держать эксперимент.|\n",
        "|6. | Минимально детектируемый эффект (MDE)| Принять, что для подтверждении гипотезы достаточно и большего эффекта. Тогда поднимаем MDE, что напрямую сокращает длительность теста.|\n",
        "|7.| Дизайн эксперимента| Использовать последовательные тесты (Sequential Testing) вместо fixed-horizon, чтобы принятие решений происходило быстрее.|"
      ],
      "metadata": {
        "id": "G_2nazMyD1Jd"
      }
    },
    {
      "cell_type": "markdown",
      "source": [
        "Если все составляющие уже обговорены и не подлежат изменениям, то придётся что-то придумывать по-хитрее. По сути длительность теста напрямую зависит от необходимого размера выборки. Давайте вспомни, как она считается:\n",
        "\n",
        "$$\n",
        "N = \\frac{\\left( \\Phi^{-1}_{(1 - \\alpha/2)} + \\Phi^{-1}_{(1-\\beta)} \\right)^2 \\times 2 \\sigma^2}{MDE^2}\n",
        "$$\n",
        "\n",
        "\n",
        "Получается, что у нас осталось ещё дисперсия, на которую мы можем повлиять. На деле есть несколько подходов, как можно её уменьшить  "
      ],
      "metadata": {
        "id": "Mmp8B8B49dAV"
      }
    },
    {
      "cell_type": "markdown",
      "source": [
        "#### Методы уменьшения дисперсии"
      ],
      "metadata": {
        "id": "C67FiYJt_6P9"
      }
    },
    {
      "cell_type": "markdown",
      "source": [
        "##### [Очистка данных от выбросов](https://habr.com/ru/companies/avito/articles/571094/#:~:text=%D0%9C%D0%B5%D1%82%D0%BE%D0%B4%D1%8B%20%D0%B1%D0%BE%D1%80%D1%8C%D0%B1%D1%8B%20%D1%81%20%D0%B2%D1%8B%D0%B1%D1%80%D0%BE%D1%81%D0%B0%D0%BC%D0%B8%20%D0%B2%20%D0%B4%D0%B0%D0%BD%D0%BD%D1%8B%D1%85)"
      ],
      "metadata": {
        "id": "QATLFVn7AUXA"
      }
    },
    {
      "cell_type": "markdown",
      "source": [
        "Не секрет, что чем больше у вас выбросов, тем больше будет дисперсия в данных. А отсюда уже следует, что у вас будет менее мощный критерий. Поэтому иногда аналитикам приходит в голову **убрать топ n% пользователей с минимальной (максимальной) метрикой в тесте и контроле.**\n",
        "\n",
        "Идея вполне здравая, но к ней нужно подходить осторожно, так как\n",
        "\n",
        "1. неправильная реализация может только исказить истиные результаты экперимента;\n",
        "2. выкидывая топ юзеров из рассмотрения и принимая решение о раскатке теста на основе оставшихся пользователей, вы автоматически считаете, что топ юзеров поведёт себя также, как и остальные пользователи, или лучше. Что на самом деле может быть не так. Это стоит всегда стоит дополнительно проверять;"
      ],
      "metadata": {
        "id": "7Z3ZXsJDAU2f"
      }
    },
    {
      "cell_type": "markdown",
      "source": [
        "###### Функция"
      ],
      "metadata": {
        "id": "r3Z24dDyHms8"
      }
    },
    {
      "cell_type": "code",
      "source": [
        "import numpy as np\n",
        "from scipy import stats as sps\n",
        "from statsmodels.stats.proportion import proportion_confint\n",
        "from tqdm import tqdm\n",
        "import matplotlib.pyplot as plt\n",
        "\n",
        "def absolute_ttest(control, test):\n",
        "    \"\"\"Абсолютный t-тест с доверительным интервалом\"\"\"\n",
        "    delta = np.mean(test) - np.mean(control)\n",
        "    _, p_value = sps.ttest_ind(control, test, equal_var=False)\n",
        "\n",
        "    se = np.sqrt(np.var(control, ddof=1)/len(control) + np.var(test, ddof=1)/len(test))\n",
        "    z_score = sps.norm.ppf(0.975)\n",
        "    ci_low = delta - z_score * se\n",
        "    ci_high = delta + z_score * se\n",
        "\n",
        "    return delta, p_value, ci_low, ci_high\n",
        "\n",
        "def simulate_cutoff_problem(\n",
        "    N_simulations=10000,\n",
        "    sample_size=1000,\n",
        "    true_mean=1000,\n",
        "    cutoff_percent=1.0,  # Процент отсечения (например, 1.0 = 1%)\n",
        "    true_cutoff=None,    # Если известно точное значение отсечки\n",
        "    show_plots=True\n",
        "):\n",
        "    \"\"\"Симуляция проблемы с разными порогами отсечения\"\"\"\n",
        "    false_positives = 0\n",
        "    cutoff_diffs = []\n",
        "    sample_size_diffs = []\n",
        "    effects = []\n",
        "\n",
        "    for _ in tqdm(range(N_simulations), desc=\"Running simulations\"):\n",
        "        # Генерация данных\n",
        "        control = sps.expon(scale=true_mean).rvs(sample_size)\n",
        "        test = sps.expon(scale=true_mean).rvs(sample_size)\n",
        "\n",
        "        # Эмпирические квантили\n",
        "        if true_cutoff is None:\n",
        "          q_control = np.quantile(control, 1 - cutoff_percent/100)\n",
        "          q_test = np.quantile(test, 1 - cutoff_percent/100)\n",
        "        else:\n",
        "          q_control = q_test = sps.expon(scale=true_mean).ppf(1 - cutoff_percent/100)\n",
        "\n",
        "        # Фильтрация\n",
        "        control_filtered = control[control <= q_control]\n",
        "        test_filtered = test[test <= q_test]\n",
        "\n",
        "        # Статистика по различиям\n",
        "        cutoff_diffs.append(abs(q_control - q_test))\n",
        "        sample_size_diffs.append(abs(len(control_filtered) - len(test_filtered)))\n",
        "\n",
        "        # T-тест\n",
        "        delta, _, ci_low, ci_high = absolute_ttest(control_filtered, test_filtered)\n",
        "        effects.append(delta)\n",
        "\n",
        "        # Ложные срабатывания\n",
        "        if ci_low > 0 or ci_high < 0:\n",
        "            false_positives += 1\n",
        "\n",
        "    # Результаты\n",
        "    alpha_est = false_positives / N_simulations\n",
        "    alpha_ci_low, alpha_ci_high = proportion_confint(false_positives, N_simulations, method='wilson')\n",
        "\n",
        "    print(f\"\\nРезультаты для отсечения {cutoff_percent}%:\")\n",
        "    print(f\"Теоретический порог отсечения: {true_cutoff:.1f}\")\n",
        "    print(f\"Средний эмпирический порог в контроле: {np.mean([true_cutoff - x for x in cutoff_diffs]):.1f} ± {np.std(cutoff_diffs):.1f}\")\n",
        "    print(f\"Разница в размерах выборок после отсечения: {np.mean(sample_size_diffs):.1f} ± {np.std(sample_size_diffs):.1f}\")\n",
        "    print(f\"Наблюдаемый эффект (должен быть 0): {np.mean(effects):.2f} ± {np.std(effects):.2f}\")\n",
        "    print(f\"\\nРеальный уровень значимости: {alpha_est:.4f}\")\n",
        "    print(f\"95% ДИ: [{alpha_ci_low:.4f}, {alpha_ci_high:.4f}]\")\n",
        "\n",
        "    if show_plots:\n",
        "        plt.figure(figsize=(15, 5))\n",
        "\n",
        "        plt.subplot(1, 3, 1)\n",
        "        plt.hist(cutoff_diffs, bins=50, color='skyblue')\n",
        "        plt.title(f'Разница в порогах отсечения\\n({cutoff_percent}% квантиль)')\n",
        "        plt.xlabel('Абсолютная разница')\n",
        "\n",
        "        plt.subplot(1, 3, 2)\n",
        "        plt.hist(sample_size_diffs, bins=50, color='salmon')\n",
        "        plt.title('Разница в размерах выборок')\n",
        "        plt.xlabel('Наблюдения')\n",
        "\n",
        "        plt.subplot(1, 3, 3)\n",
        "        plt.hist(effects, bins=100, color='lightgreen', range=(-true_mean*0.1, true_mean*0.1))\n",
        "        plt.title('Распределение наблюдаемых эффектов')\n",
        "        plt.xlabel('Разница средних')\n",
        "        plt.axvline(0, color='red', linestyle='--')\n",
        "\n",
        "        plt.tight_layout()\n",
        "        plt.show()"
      ],
      "metadata": {
        "id": "yJ0_x8V8Hpbs"
      },
      "execution_count": null,
      "outputs": []
    },
    {
      "cell_type": "markdown",
      "source": [
        "###### **Нельзя** чистить данные по факту эксперимента на основе контрольной и тестовой группы"
      ],
      "metadata": {
        "id": "LheKqu7SC7xv"
      }
    },
    {
      "cell_type": "code",
      "source": [
        "simulate_cutoff_problem(N_simulations=10000,\n",
        "                        sample_size=1000,\n",
        "                        true_mean=1000,\n",
        "                        cutoff_percent= 1.0,\n",
        "                        true_cutoff=None,\n",
        "                        show_plots=True)"
      ],
      "metadata": {
        "id": "N3O5AZlaFep0"
      },
      "execution_count": null,
      "outputs": []
    },
    {
      "cell_type": "markdown",
      "source": [
        "Мы получили, что в таком случае процент ошибок первого рода не 5%, как мы ожидали, а 7.4%. Это значит, что метод некорректен и его нельзя использовать.\n",
        "\n",
        "Почему так произошло? Дело в том, что мы не знаем точного значения 0.99 квантили, а лишь её оценку. Без точного значения у нас получаются разные пороги в тесте и в контроле, а значит, и разные итоговые выборки. К примеру, в одной выборке все значения будут меньше 2000, а в другой — меньше 3000, потому что из-за шума получились разные оценки квантили."
      ],
      "metadata": {
        "id": "vJAQifuYGCH4"
      }
    },
    {
      "cell_type": "markdown",
      "source": [
        "###### 2. **Рекоммендуется использовать общий квнатиль для отчесения значений**"
      ],
      "metadata": {
        "id": "OGFNZb0aDBKo"
      }
    },
    {
      "cell_type": "markdown",
      "source": [
        "Чтобы исправить недостаток, можно брать один квантиль для теста и контроля. В таком случае значение квантиля нельзя считать на всём тесте или на всём контроле или на объединенной выборке теста и контроля. Проблема состоит в том, что тест и контроль отличаются друг от друга влиянием тритмента. Поэтому, если средние в тесте и в контроле отличаются, то использование общего квантиля для отсечения в обоих выборках приведёт к тому, что мы выкинем из теста больше значений. В худшем случае мы будем сравнивать среднее без 1% в тесте со средним на всей выборке в контроле, что совсем не то, что мы хотим.\n",
        "\n",
        "В таком случае предлагается подобрать порог отсечения, используя значение целевой метрики на предпериоде. К примеру, отсечь топ 1% юзеров по выручке за 2 месяца до эксперимента, когда никакого тритмента не было в тесте."
      ],
      "metadata": {
        "id": "rw-To0oiDEBo"
      }
    },
    {
      "cell_type": "code",
      "source": [
        "true_cutoff = sps.expon(scale=1000).ppf(0.99)  # Для 1% отсечения\n",
        "\n",
        "simulate_cutoff_problem(N_simulations=10000,\n",
        "                        sample_size=1000,\n",
        "                        true_mean=1000,\n",
        "                        cutoff_percent= 1.0,\n",
        "                        true_cutoff=true_cutoff,\n",
        "                        show_plots=True)"
      ],
      "metadata": {
        "id": "SHbCJcinHRU-"
      },
      "execution_count": null,
      "outputs": []
    },
    {
      "cell_type": "markdown",
      "source": [
        "##### [Стратификация](https://habr.com/ru/companies/X5Tech/articles/596279/)"
      ],
      "metadata": {
        "id": "lABxso5VAIxt"
      }
    },
    {
      "cell_type": "markdown",
      "source": [
        "Стратификация позволяет снизить дисперсию метрик засчёт использования дополнительной информации в подсчёте метрик.\n",
        "\n",
        "Для понимания стратификации введем несколько ключевых определений:\n",
        "*   **Популяция** – это все пользователи (или объекты), на которых мы можем повлиять нашим экспериментом. Например, 10 тысяч активных пользователей интернет-магазина.\n",
        "*   **Ковариата** – это метрика, которая:\n",
        "    *   коррелирует с целевой метрикой.\n",
        "    *   может быть измерена до начала эксперимента.\n",
        "    *   не зависит от воздействия эксперимента.\n",
        "    \n",
        "    Примеры ковариат для экспериментов с людьми включают пол, возраст, город проживания, операционную систему. Для магазинов это могут быть размер торговой площади или режим работы.\n",
        "*   **Страты** – это непересекающиеся подмножества популяции, которые обладают уникальным набором значений ковариат.\n",
        "\n",
        "Дисперсия обычного среднего при случайном семплировании может быть представлена в виде суммы дисперсий *внутри* стратифицированных групп и *между* стратифицированными группами. Стратификация эффективно **убирает часть дисперсии, которая объясняется различиями между стратами**, что приводит к общему снижению дисперсии метрики.\n",
        "\n",
        "Существует два основных подхода к реализации стратификации:"
      ],
      "metadata": {
        "id": "Yi9bRRd8gy83"
      }
    },
    {
      "cell_type": "markdown",
      "source": [
        "###### Функции"
      ],
      "metadata": {
        "id": "NkWJl2ttg6Fn"
      }
    },
    {
      "cell_type": "code",
      "source": [
        "import pandas as pd\n",
        "import numpy as np\n",
        "from scipy import stats\n",
        "import seaborn as sns\n",
        "import matplotlib.pyplot as plt\n",
        "from tqdm import tqdm\n",
        "\n",
        "def get_stratified_data(strat_to_param, effect=0):\n",
        "    \"\"\"Генерирует данные стратифицированным семплированием.\n",
        "\n",
        "    Возвращает датафрейм со значениями метрики и страт пользователей\n",
        "    в контрольной и экспериментальной группах.\n",
        "\n",
        "    strat_to_param - словарь с параметрами страт\n",
        "    effect - размер эффекта\n",
        "    \"\"\"\n",
        "    control, pilot = [], []\n",
        "    for strat, (n, mu, std) in strat_to_param.items():\n",
        "        control += [\n",
        "            (x, strat,) for x in np.random.normal(mu, std, n)\n",
        "        ]\n",
        "        pilot += [\n",
        "            (x, strat,) for x in np.random.normal(mu + effect, std, n)\n",
        "        ]\n",
        "    columns = ['value', 'strat']\n",
        "    control_df = pd.DataFrame(control, columns=columns)\n",
        "    pilot_df = pd.DataFrame(pilot, columns=columns)\n",
        "    return control_df, pilot_df\n",
        "\n",
        "\n",
        "def get_random_data(strats, sample_size, strat_to_param, effect=0):\n",
        "    \"\"\"Генерирует данные случайным семплированием.\n",
        "\n",
        "    Возвращает датафрейм со значениями метрики и страт пользователей\n",
        "    в контрольной и экспериментальной группах.\n",
        "\n",
        "    strats - cписок страт в популяции\n",
        "    sample_size - размеры групп\n",
        "    strat_to_param - словарь с параметрами страт\n",
        "    effect - размер эффекта\n",
        "    \"\"\"\n",
        "    control_strats, pilot_strats = np.random.choice(\n",
        "        strats, (2, sample_size), False\n",
        "    )\n",
        "    control, pilot = [], []\n",
        "    for strat, (n, mu, std) in strat_to_param.items():\n",
        "        n_control_ = np.sum(control_strats == strat)\n",
        "        control += [\n",
        "            (x, strat,) for x in np.random.normal(mu, std, n_control_)\n",
        "        ]\n",
        "        n_pilot_ = np.sum(pilot_strats == strat)\n",
        "        pilot += [\n",
        "            (x, strat,) for x in np.random.normal(mu + effect, std, n_pilot_)\n",
        "        ]\n",
        "    columns = ['value', 'strat']\n",
        "    control_df = pd.DataFrame(control, columns=columns)\n",
        "    pilot_df = pd.DataFrame(pilot, columns=columns)\n",
        "    return control_df, pilot_df\n",
        "\n",
        "\n",
        "def ttest(a: pd.DataFrame, b: pd.DataFrame) -> float:\n",
        "    \"\"\"Возвращает pvalue теста Стьюдента.\n",
        "\n",
        "    a, b - данные пользователей контрольной и экспериментальной групп\n",
        "    \"\"\"\n",
        "    _, pvalue = stats.ttest_ind(a['value'].values, b['value'].values)\n",
        "    return pvalue\n",
        "\n",
        "def calc_strat_mean(df: pd.DataFrame, weights: pd.Series) -> float:\n",
        "    \"\"\"Считает стратифицированное среднее.\n",
        "\n",
        "    df - датафрейм с целевой метрикой и данными для стратификации\n",
        "    weights - маппинг {название страты: вес страты в популяции}\n",
        "    \"\"\"\n",
        "    strat_mean = df.groupby('strat')['value'].mean()\n",
        "    return (strat_mean * weights).sum()\n",
        "\n",
        "\n",
        "def calc_strat_var(df: pd.DataFrame, weights: pd.Series) -> float:\n",
        "    \"\"\"Считает стратифицированную дисперсию.\n",
        "    df - датафрейм с целевой метрикой и данными для стратификации\n",
        "    weights - маппинг {название страты: вес страты в популяции}\n",
        "    \"\"\"\n",
        "    strat_var = df.groupby('strat')['value'].var()\n",
        "    return (strat_var * weights).sum()\n",
        "\n",
        "\n",
        "def ttest_strat(a: pd.DataFrame, b: pd.DataFrame, weights: pd.Series) -> float:\n",
        "    \"\"\"Возвращает pvalue теста Стьюдента для стратифицированного среднего.\n",
        "\n",
        "    a, b - данные пользователей контрольной и экспериментальной групп\n",
        "    weights - маппинг {название страты: вес страты в популяции}\n",
        "    \"\"\"\n",
        "    a_strat_mean = calc_strat_mean(a, weights)\n",
        "    b_strat_mean = calc_strat_mean(b, weights)\n",
        "    a_strat_var = calc_strat_var(a, weights)\n",
        "    b_strat_var = calc_strat_var(b, weights)\n",
        "    delta = b_strat_mean - a_strat_mean\n",
        "    std = (a_strat_var / len(a) + b_strat_var / len(b)) ** 0.5\n",
        "    t = delta / std\n",
        "    pvalue = 2 * (1 - stats.norm.cdf(np.abs(t)))\n",
        "    return pvalue"
      ],
      "metadata": {
        "id": "u-MVJBFjg9Bw"
      },
      "execution_count": null,
      "outputs": []
    },
    {
      "cell_type": "markdown",
      "source": [
        "###### **Стратифицированное семплирование**"
      ],
      "metadata": {
        "id": "25-lvCO4guo5"
      }
    },
    {
      "cell_type": "markdown",
      "source": [
        "**Стратифицированное семплирование (или \"пред-стратификация\")** – это метод формирования контрольной и экспериментальной групп таким образом, чтобы доли каждой страты в этих группах были равны долям страт в общей популяции. Это достигается путем определения необходимого количества представителей каждой страты в группе и случайного выбора соответствующего числа объектов из каждой страты.\n",
        "\n",
        "\\\\\n",
        "\n",
        "![stratification.png](data:image/png;base64,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)"
      ],
      "metadata": {
        "id": "VD07q2eGgHlO"
      }
    },
    {
      "cell_type": "code",
      "source": [
        "# Посчитаем размер выборки\n",
        "alpha = 0.05                    # вероятность ошибки I рода\n",
        "beta = 0.2                      # вероятность ошибки II рода\n",
        "mu_control = 2500               # средняя выручка с пользователя в контрольной группе\n",
        "effect = 100                    # размер эффекта\n",
        "mu_pilot = mu_control + effect  # средняя выручка с пользователя в экспериментальной группе\n",
        "std = 800                       # стандартное отклонение\n",
        "\n",
        "t_alpha = stats.norm.ppf(1 - alpha / 2, loc=0, scale=1)\n",
        "t_beta = stats.norm.ppf(1 - beta, loc=0, scale=1)\n",
        "var = 2 * std ** 2\n",
        "sample_size = int((t_alpha + t_beta) ** 2 * var / (effect ** 2))\n",
        "print(f'Неоьбходимый размер выборки: {sample_size}\\n')\n",
        "\n",
        "\n",
        "# Пусть у нас всего 10 тысяч пользователей, тогда выбрать людей для эксперимента можно следующим кодом\n",
        "\n",
        "user_ids = np.arange(10000)\n",
        "control_user_ids, pilot_user_ids = np.random.choice( user_ids, (2, sample_size), replace=False )\n",
        "\n",
        "\n",
        "# параметры теста (вместо средних значений для теста и контроля разобьём по стратам)\n",
        "\n",
        "alpha = 0.05                        # уровень значимости\n",
        "N = 10000                           # количество пользователей в популяции\n",
        "w_one, w_two = 0.5, 0.5             # доли страт в популяции\n",
        "N_one = int(N * w_one)              # количество пользователей первой страты\n",
        "N_two = int(N * w_two)              # количество пользователей второй страты\n",
        "mu_one, mu_two = 2000, 3000         # средние выручки в стратах\n",
        "std_one, std_two = 625, 625         # стандартное отклонение в стратах\n",
        "\n",
        "# список страт в популяции\n",
        "strats = [1 for _ in range(N_one)] + [2 for _ in range(N_two)]\n",
        "\n",
        "# размер групп эксперимента\n",
        "sample_size = 1100\n",
        "sample_size_one = int(sample_size * w_one)\n",
        "sample_size_two = int(sample_size * w_two)\n",
        "\n",
        "# маппинг параметров страт\n",
        "strat_to_param = {\n",
        "    1: (sample_size_one, mu_one, std_one,),\n",
        "    2: (sample_size_two, mu_two, std_two,)\n",
        "}\n",
        "\n",
        "\n",
        "# проведём A/A тест на оценку ошибки 1 рода\n",
        "random_first_type_errors = []\n",
        "stratified_first_type_errors = []\n",
        "random_deltas = []\n",
        "stratified_deltas = []\n",
        "\n",
        "for _ in tqdm(range(3_000),desc='Считаем ошибку 1 рода'):\n",
        "    control_random, pilot_random = get_random_data(\n",
        "        strats, sample_size, strat_to_param\n",
        "    )\n",
        "    control_stratified, pilot_stratified = get_stratified_data(\n",
        "        strat_to_param\n",
        "    )\n",
        "    random_deltas.append(\n",
        "        pilot_random['value'].mean() - control_random['value'].mean()\n",
        "    )\n",
        "    stratified_deltas.append(\n",
        "        pilot_stratified['value'].mean() - control_stratified['value'].mean()\n",
        "    )\n",
        "\n",
        "    pvalue_random = ttest(control_random, pilot_random)\n",
        "    random_first_type_errors.append(pvalue_random < alpha)\n",
        "    pvalue_stratified = ttest(control_stratified, pilot_stratified)\n",
        "    stratified_first_type_errors.append(pvalue_stratified < alpha)\n",
        "\n",
        "part_random_first_type_errors = np.mean(random_first_type_errors)\n",
        "part_stratified_first_type_errors = np.mean(stratified_first_type_errors)\n",
        "print(f'{\"-\"*50}\\nОшибка 1 рода без стратификации: {part_random_first_type_errors:0.3f}')\n",
        "print(f'Ошибка 1 рода со стратификацией: {part_stratified_first_type_errors:0.3f}\\n')\n",
        "\n",
        "\n",
        "# Проведем A/B тест на оценку ошибки 2 рода\n",
        "effect = 100\n",
        "random_second_type_errors = []\n",
        "stratified_second_type_errors = []\n",
        "\n",
        "for _ in tqdm(range(3_000),desc='Считаем ошибку 2 рода'):\n",
        "    control_random, pilot_random = get_random_data(\n",
        "        strats, sample_size, strat_to_param, effect\n",
        "    )\n",
        "    control_stratified, pilot_stratified = get_stratified_data(\n",
        "        strat_to_param, effect\n",
        "    )\n",
        "    pvalue_random = ttest(control_random, pilot_random)\n",
        "    random_second_type_errors.append(pvalue_random >= alpha)\n",
        "    pvalue_stratified = ttest(control_stratified, pilot_stratified)\n",
        "    stratified_second_type_errors.append(pvalue_stratified >= alpha)\n",
        "\n",
        "part_random_second_type_errors = np.mean(random_second_type_errors)\n",
        "part_stratified_second_type_errors = np.mean(stratified_second_type_errors)\n",
        "print(f'{\"-\"*50}\\nОшибка 2 рода без стратификации: {part_random_second_type_errors:0.3f}')\n",
        "print(f'Ошибка 2 рода со стратификацией: {part_stratified_second_type_errors:0.3f}')\n",
        "\n",
        "# График\n",
        "plt.figure(figsize=(12, 6))\n",
        "sns.set_style(\"whitegrid\")\n",
        "sns.set_palette(\"husl\")\n",
        "\n",
        "ax = sns.kdeplot( data=random_deltas, label=\"Случайные дельты\",\n",
        "                  linewidth=2.5, alpha=0.7, fill=True, color = 'lightgreen')\n",
        "\n",
        "sns.kdeplot( data=stratified_deltas, label=\"Стратифицированные дельты\",\n",
        "             linewidth=2.5, alpha=0.7, fill=True, color = 'lightblue')\n",
        "\n",
        "plt.title(\"Сравнение распределений дельт\", pad=20, fontsize=16, fontweight='bold')\n",
        "plt.xlabel(\"Величина эффекта\", fontsize=12)\n",
        "plt.ylabel(\"Плотность вероятности\", fontsize=12)\n",
        "plt.axvline(0, color='black', linestyle='--', alpha=0.5, label=\"Нулевой эффект\")\n",
        "\n",
        "plt.legend( title=\"Тип выборки\", title_fontsize=12, fontsize=11,\n",
        "            frameon=True, framealpha=0.9, facecolor='white')\n",
        "\n",
        "plt.grid(True, alpha=0.3)\n",
        "sns.despine(left=True, bottom=True)\n",
        "plt.tight_layout()\n",
        "plt.show()"
      ],
      "metadata": {
        "id": "9NT_EITxiUWn"
      },
      "execution_count": null,
      "outputs": []
    },
    {
      "cell_type": "markdown",
      "source": [
        "Стратифицированное семплирование позволило уменьшить вероятности ошибок I и II рода, это очень хорошо. Но мы получили не совсем тот тест, который хотели изначально. Мы хотели проверять гипотезы на уровне значимости 0.05, а получается что проверяем на более низком уровне значимости. Так происходит из-за того, что при стратифицированном семплировании мы не только делаем распределение средних более узким, но и снижаем дисперсию, зафиксировав количество страт в каждой группе. Тест Стьюдента не знает о том, что мы семплируем данные не случайно, поэтому при подсчёте статистики используется завышенная оценка дисперсии. Вернуть тест на нужный уровень значимости нам поможет стратифицированное среднее."
      ],
      "metadata": {
        "id": "sb74A-zjlh-Y"
      }
    },
    {
      "cell_type": "markdown",
      "source": [
        "Оно вычисляется как взвешенная сумма средних каждой страты, где веса – это доли страт в популяции.\n",
        "\n",
        "Пусть $Y$ — целевая метрика, $k$ — индекс страты, $w_k$ — доля страты $k$ в популяции, $\\bar{Y}_k$ — выборочное среднее метрики в страте $k$.\n",
        "Тогда стратифицированное среднее $\\bar{Y}_{strat}$ можно записать так:\n",
        "\n",
        "$$\n",
        "\\bar{Y}_{strat} = \\sum_{k=1}^K w_k \\bar{Y}_k\n",
        "$$\n",
        "\n",
        "Обратим внимание на два свойства стратифицированного среднего.\n",
        "\n",
        "* Во-первых, при стратифицированном семплировании оценка стратифицированного среднего равна оценке выборочного среднего.\n",
        "\n",
        "$$\n",
        "\\bar{Y}_{strat} = \\sum_{k=1}^K w_k \\bar{Y}_k = \\sum_{k=1}^K w_k \\frac{1}{n_k} \\sum_{j=1}^{n_{k}} Y_{kj} = \\sum_{k=1}^K \\frac{n_k}{n} \\frac{1}{n_k} \\sum_{j=1}^{n_{k}} Y_{kj} = \\frac{1}{n} \\sum_{k=1}^K \\sum_{j=1}^{n_{k}} Y_{kj} = \\bar{Y}\n",
        "$$\n",
        "\n",
        "* Во-вторых, при случайном семплировании математическое ожидание оценки стратифицированного среднего равно математическому ожиданию оценки обычного среднего. Более того, эти оценки являются несмещенными.\n",
        "\n",
        "$$\n",
        "\\mathbb{E}_{rand}(\\bar{Y}) = \\mathbb{E}_{rand}( \\frac{1}{n} \\sum_{k=1}^K \\sum_{j=1}^{n_{k}} Y_{kj}) = \\frac{1}{n} \\sum_{k=1}^K \\sum_{j=1}^{n_{k}} \\mathbb{E}_{rand} (Y_{kj}) = \\frac{1}{n} \\sum_{k=1}^K \\sum_{j=1}^{n_{k}} \\mu = \\mu\n",
        "$$\n",
        "\n",
        "\n",
        "$$\n",
        "\\mathbb{E}_{strat}(\\hat{Y}_{strat}) = \\sum_{k=1}^K w_k \\mathbb{E}_{strat}(\\bar{Y}_{k}) = \\sum_{k=1}^K w_k \\mu_{k} = \\mu\n",
        "$$\n",
        "\n",
        "**Дисперсия** оценки стратифицированного среднего вычисляется по формуле:\n",
        "\n",
        "$$\n",
        "\\mathbb{V}(\\bar{Y}_{strat}) \\approx \\frac{1}{n} \\sum_{k=1}^K w_k \\hat{\\sigma}_k^2\n",
        "$$\n",
        "\n",
        "Эту оценку нужно использовать для вычисления статистики теста:\n",
        "\n",
        "$$\n",
        "t = \\frac{\\hat{Y}_{strat, B} - \\hat{Y}_{strat, A}}{\\sqrt{\\hat{\\sigma}^2_{A} + \\hat{\\sigma}^2_{B}}} \\sim Student(\\nu)\n",
        "$$"
      ],
      "metadata": {
        "id": "zOKPZBXXgoH3"
      }
    },
    {
      "cell_type": "code",
      "source": [
        "weights = pd.Series({1: w_one, 2: w_two})\n",
        "\n",
        "first_type_errors = []\n",
        "second_type_errors = []\n",
        "\n",
        "for _ in tqdm(range(3_000)):\n",
        "    control_aa, pilot_aa = get_stratified_data(\n",
        "        strat_to_param\n",
        "    )\n",
        "    control_ab, pilot_ab = get_stratified_data(\n",
        "        strat_to_param, effect\n",
        "    )\n",
        "\n",
        "    pvalue_aa = ttest_strat(control_aa, pilot_aa, weights)\n",
        "    first_type_errors.append(pvalue_aa < alpha)\n",
        "    pvalue_ab = ttest_strat(control_ab, pilot_ab, weights)\n",
        "    second_type_errors.append(pvalue_ab >= alpha)\n",
        "\n",
        "\n",
        "part_first_type_errors = np.mean(first_type_errors)\n",
        "part_second_type_errors = np.mean(second_type_errors)\n",
        "print(f'{\"-\"*50}\\nОшибка 1 рода: {part_first_type_errors:0.3f}')\n",
        "print(f'Ошибка 2 рода: {part_second_type_errors:0.3f}')"
      ],
      "metadata": {
        "id": "94uh62idtFKG"
      },
      "execution_count": null,
      "outputs": []
    },
    {
      "cell_type": "markdown",
      "source": [
        "Под стратификацией обычно подразумевают одновременное применение и стратифицированного семплирования для формирования групп, и стратифицированного среднего для оценки среднего выборок. То есть в последнем численном эксперименте мы воспользовались стратификацией. Бывают ситуации, когда нет возможности провести стратифицированное семплирование, но оказывается, что в этом случае все еще можно использовать стратифицированное среднее для получения оценки. Такой подход называют постстратификацией."
      ],
      "metadata": {
        "id": "w5YJTr2DvOig"
      }
    },
    {
      "cell_type": "markdown",
      "source": [
        "######  **Постстратификация**"
      ],
      "metadata": {
        "id": "T8ONtXdptHHz"
      }
    },
    {
      "cell_type": "markdown",
      "source": [
        "**Постстратификация** – это подход, при котором группы формируются случайным образом (без предварительного балансирования по стратам), но для оценки среднего значения метрики используется **стратифицированное среднее**.\n",
        "\n",
        "На практике постстратификация применяется гораздо чаще, чем стратификация, так как ещё проще реализовать; при этом разница в эффекте будет приблизительна одинакова:\n",
        "\n",
        "$$\n",
        "\\mathbb{V}_{strat}(\\hat{Y}_{strat}) = \\mathbb{V}_{post}(\\hat{Y}_{strat}) + O \\left( \\frac{1}{n^2}\\right) = \\mathbb{V}_{rand}(\\bar{Y}) + O \\left( \\frac{1}{n}\\right)\n",
        "$$\n",
        "\n",
        "$$\n",
        "\\mathbb{V}_{strat}(\\hat{Y}_{strat}) \\le  \\mathbb{V}_{post}(\\hat{Y}_{strat}) \\le \\mathbb{V}_{rand}(\\bar{Y})\n",
        "$$\n",
        "\n",
        "\\\\\n",
        "\n",
        "![poststratification.png](data:image/png;base64,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)"
      ],
      "metadata": {
        "id": "AmOoaegzvBOq"
      }
    },
    {
      "cell_type": "code",
      "source": [
        "first_type_errors = []\n",
        "second_type_errors = []\n",
        "\n",
        "for _ in tqdm(range(10000)):\n",
        "    control_aa, pilot_aa = get_random_data(\n",
        "        strats, sample_size, strat_to_param\n",
        "    )\n",
        "    control_ab, pilot_ab = get_random_data(\n",
        "        strats, sample_size, strat_to_param, effect\n",
        "    )\n",
        "\n",
        "    pvalue_aa = ttest_strat(control_aa, pilot_aa, weights)\n",
        "    first_type_errors.append(pvalue_aa < alpha)\n",
        "    pvalue_ab = ttest_strat(control_ab, pilot_ab, weights)\n",
        "    second_type_errors.append(pvalue_ab >= alpha)\n",
        "\n",
        "\n",
        "part_first_type_errors = np.mean(first_type_errors)\n",
        "part_second_type_errors = np.mean(second_type_errors)\n",
        "print(f'{\"-\"*50}\\nОшибка 1 рода: {part_first_type_errors:0.3f}')\n",
        "print(f'Ошибка 2 рода: {part_second_type_errors:0.3f}')"
      ],
      "metadata": {
        "id": "YWzZ9d3ksO16"
      },
      "execution_count": null,
      "outputs": []
    },
    {
      "cell_type": "markdown",
      "source": [
        "##### [Бакетизация](https://habr.com/ru/articles/815331/)"
      ],
      "metadata": {
        "id": "RMPUwuO6ARuk"
      }
    },
    {
      "cell_type": "markdown",
      "source": [
        "**Бакетизация** — это процесс разделения общей выборки случайным образом на несколько подгрупп (buckets), которые затем анализируются отдельно. Этот метод широко используется в статистических исследованиях, особенно в A/B тестировании, в основном чтобы ускорить вычисления.\n",
        "\n",
        "**Процесс бакетизации**\n",
        "1. Определяем каждому из $N$ изначальных независимых наблюдений случайное число от 1 до $M$ ($M \\le N$), назовем это бакетом.\n",
        "\n",
        "2. Агрегируем по этим бакетам, считаем сумму метрики и количество наблюдений в каждом бакете.\n",
        "3. Теперь у нас бакет является независимым наблюдением, над ним и надо проводить расчёт"
      ],
      "metadata": {
        "id": "D5qHiRi-AZKG"
      }
    },
    {
      "cell_type": "code",
      "source": [
        "import numpy as np\n",
        "from scipy.stats import ttest_ind\n",
        "import time\n",
        "from tqdm import tqdm\n",
        "import plotly.graph_objects as go\n",
        "import scipy.stats as stats\n",
        "\n",
        "def run_simulation(control_group, treatment_group):\n",
        "    \"\"\"\n",
        "    Выполняет t-тест для двух групп данных и возвращает p-значение.\n",
        "\n",
        "    Args:\n",
        "        control_group (array-like): Данные контрольной группы.\n",
        "        treatment_group (array-like): Данные экспериментальной группы.\n",
        "\n",
        "    Returns:\n",
        "        float: p-значение t-теста.\n",
        "    \"\"\"\n",
        "    _, p_value = ttest_ind(control_group, treatment_group)\n",
        "    return p_value\n",
        "\n",
        "def run(n_obs, n_buckets, n_simulations):\n",
        "    \"\"\"\n",
        "    Выполняет симуляции для сравнения времени выполнения расчетов с бакетизацией и без неё.\n",
        "\n",
        "    Args:\n",
        "        n_obs (int): Количество пользователей (размер данных).\n",
        "        n_buckets (int): Количество бакетов для бакетизации.\n",
        "        n_simulations (int): Количество повторений симуляций.\n",
        "\n",
        "    Returns:\n",
        "        dict: Словарь с временем выполнения для каждого подхода.\n",
        "    \"\"\"\n",
        "    # Генерация данных\n",
        "    data_ind = np.random.normal(10, 1, n_obs)\n",
        "\n",
        "    # Бакетизация данных\n",
        "    bucket_indices_control = np.random.randint(0, n_buckets, data_ind.size)\n",
        "    bucket_sums_control = np.bincount(bucket_indices_control, weights=data_ind, minlength=n_buckets)\n",
        "    bucket_counts_control = np.bincount(bucket_indices_control, minlength=n_buckets)\n",
        "    data_agg = bucket_sums_control / bucket_counts_control\n",
        "\n",
        "    # Параметры для симуляций\n",
        "    params = [\n",
        "        ('ind', data_ind[:n_obs//2], data_ind[n_obs//2:]),\n",
        "        ('agg', data_agg[:n_buckets//2], data_agg[n_buckets//2:])\n",
        "    ]\n",
        "\n",
        "    times = {}\n",
        "    for param in params:\n",
        "        start_time = time.time()\n",
        "        for _ in range(n_simulations):\n",
        "            run_simulation(param[1], param[2])\n",
        "        elapsed_time = time.time() - start_time\n",
        "        sim_type = 'Individual Data' if param[0] == 'ind' else 'Aggregated Data'\n",
        "        times[sim_type] = elapsed_time\n",
        "    return times\n",
        "\n",
        "# Параметры эксперимента\n",
        "ns_obs = np.linspace(10**4, 10**7, 100).astype(int)\n",
        "n_buckets = 1000\n",
        "n_simulations = 100\n",
        "\n",
        "results = {}\n",
        "for n_obs in tqdm(ns_obs, desc='Processing user counts'):\n",
        "    results[n_obs] = run(n_obs, n_buckets, n_simulations)\n",
        "\n",
        "# Визуализация результатов с линией тренда\n",
        "ind_times = np.asarray([results[n]['Individual Data'] for n in ns_obs])\n",
        "agg_times = np.asarray([results[n]['Aggregated Data'] for n in ns_obs])\n",
        "ratio = ind_times / agg_times\n",
        "\n",
        "# Вычисление коэффициентов регрессии\n",
        "slope, intercept, r_value, p_value, std_err = stats.linregress(ns_obs, ratio)\n",
        "trendline = intercept + slope * ns_obs\n",
        "\n",
        "# Создание графика\n",
        "fig = go.Figure()\n",
        "fig.add_trace(go.Scatter(x=ns_obs, y=ratio, mode='markers+lines', name='Data Points'))\n",
        "\n",
        "# Добавление линии тренда\n",
        "fig.add_trace(go.Scatter(x=ns_obs, y=trendline, mode='lines', name='Trend Line',\n",
        "                         line=dict(color='red', dash='dash')))\n",
        "\n",
        "# Форматирование текста аннотации с использованием экспоненциальной нотации\n",
        "stats_text = f\"Slope: {slope:.2e}<br>Intercept: {intercept:.2f}<br>R-squared: {r_value**2:.3f}\"\n",
        "\n",
        "# Добавление аннотации с результатами регрессии\n",
        "fig.add_annotation(x=ns_obs[-1], y=trendline[-1],\n",
        "                   text=stats_text, showarrow=True, font=dict(size=12),\n",
        "                   arrowhead=1, arrowsize=1, arrowwidth=2, arrowcolor='red',\n",
        "                   ax=20, ay=-30, bgcolor='white', bordercolor='black')\n",
        "\n",
        "# Настройка макета\n",
        "fig.update_layout(\n",
        "    title='Comparison of Computation Times',\n",
        "    xaxis_title='Number of Users',\n",
        "    yaxis_title='Individual approach time / Aggregated approach time',\n",
        "    plot_bgcolor='white',\n",
        "    paper_bgcolor='white',\n",
        "    font_color='black',\n",
        "    width=1200,\n",
        "    height=800,\n",
        "    showlegend=True\n",
        ")\n",
        "\n",
        "fig.show()"
      ],
      "metadata": {
        "id": "5AtAV7oW7vS2"
      },
      "execution_count": null,
      "outputs": []
    },
    {
      "cell_type": "markdown",
      "source": [
        "Тем не менее, из бакетизации можно попытаться выжать не только прибавку к скорости, если особым образом выбрать алгоритм определения бакеты:\n",
        "1. можно делить по децилям и проводить [децильный анализ](https://vk.com/@sciensespss-decilnyi-metod-ili-sokraschenie-dispersii)\n",
        "2. можно назначать бакеты согласно каким-то ковариатам, которые не изменяются в процессе эксперимента (то есть нулевая корреляция эффекта и ковариаты) и имеют высокую коварицию с метрикой ~ стратификация (CUPED)"
      ],
      "metadata": {
        "id": "7w8ozBdMF5LQ"
      }
    },
    {
      "cell_type": "markdown",
      "source": [
        "##### [Линеаризация](https://www.researchgate.net/publication/322969314_Consistent_Transformation_of_Ratio_Metrics_for_Efficient_Online_Controlled_Experiments)"
      ],
      "metadata": {
        "id": "WKG7M5YLKSh_"
      }
    },
    {
      "cell_type": "markdown",
      "source": [
        "**Линеаризация метрик** — это преобразование, которое применяется к **метрикам отношения** (ratio metrics) с целью превращения их в **аддитивные пользовательские метрики**. Иными словами, мы создаем новую метрику для каждого пользователя, которая уже не является отношением, но сохраняет информацию об изменениях в исходной метрике.\n",
        "\n",
        "Классические метрики отношения часто обладают высокой дисперсией и могут иметь \"тяжелые хвосты\" или быть ограничены в диапазоне (например, от 0 до 1), что усложняет обнаружение статистически значимых изменений. Линеаризация **снижает дисперсию** преобразованной метрики, делая её распределение более \"сжатым\" и предсказуемым, что \"растягивает\" её диапазон и повышает чувствительность к различиям. Это можно сравнить с логарифмическим преобразованием в машинном обучении, которое улучшает качество моделей за счет нормализации распределения целевой переменной."
      ],
      "metadata": {
        "id": "drDDOUZsKTI_"
      }
    },
    {
      "cell_type": "markdown",
      "source": [
        "Для метрики отношения, которая на пользовательском уровне может быть представлена как $\\mathcal{R} = \\frac{\\sum_{u \\in U} Y(u)}{\\sum_{u \\in U} X(u)}$, линеаризованная метрика будет выглядеть как\n",
        "$$\n",
        "Lin(u) = Y(u) - \\mathcal{R}^{ctrl} X(u) \\text{ , где } \\mathcal{R}^{ctrl} - \\text{значение метрики отношения в контрольной группе}\n",
        "$$\n",
        "\n",
        "После того, как мы посчитали линеаризованую метрику для каждого пользователя, можно использовать классические статистические тесты для проверки гипотез, либо же вернуться к метрике отношения $Lin = \\frac{\\sum_{u}Lin(u)}{|U|}$ и считать с помощью delta-метода статистику. Но в таком случае мы теряем часть информации об активности пользователей (когда просто делим на общее количество), из-за чего необходимо делать перевзвешивание. Например, можно сначала взвесить метрику на корень знаменателя, а потом линеаризовать:\n",
        "\n",
        "$$\n",
        "\\mathcal{R}_{rew} = \\frac{\\sum_u \\sqrt{X(u)} \\times \\frac{Y(u)}{X(u)}}{\\sqrt{X(u)}}\n",
        "$$\n",
        "\n",
        "\\\\\n",
        "\n",
        "$$\n",
        "Lin_{rew} = \\frac{\\sum_u \\sqrt{X(u)} \\times (Y(u) - \\mathcal{R}_{rew}^{ctrl} X(u))}{\\sqrt{X(u)}}\n",
        "$$"
      ],
      "metadata": {
        "id": "3ol1F8Kftufq"
      }
    },
    {
      "cell_type": "code",
      "source": [
        "import numpy as np\n",
        "import matplotlib.pyplot as plt\n",
        "from scipy import stats\n",
        "from tqdm import tqdm\n",
        "import math\n",
        "\n",
        "# -------------------------------------------------------\n",
        "# 1. Конфигурация\n",
        "# -------------------------------------------------------\n",
        "class Config:\n",
        "    def __init__(self,\n",
        "                 n_users     = 10_000,\n",
        "                 n_simulations= 5_000,\n",
        "                 alpha       = 0.05,\n",
        "                 seed        = 42,\n",
        "                 sigma_noise = 0.5):\n",
        "        self.n_users      = n_users\n",
        "        self.n_simulations= n_simulations\n",
        "        self.alpha        = alpha\n",
        "        self.seed         = seed\n",
        "        self.sigma_noise  = sigma_noise\n",
        "\n",
        "config = Config()\n",
        "\n",
        "# -------------------------------------------------------\n",
        "# 2. Генерация синтетики\n",
        "# -------------------------------------------------------\n",
        "def generate_ab_data(n, delta, sigma):\n",
        "    \"\"\"\n",
        "    Ровно n контрольных и n экспериментальных пользователей.\n",
        "    X ~ Gamma(2,1), шум ε~N(0,sigma),\n",
        "    Y = X*(1 + delta*grp) + ε\n",
        "    \"\"\"\n",
        "    grp = np.array([0]*n + [1]*n)\n",
        "    X   = np.random.gamma(2, 1, 2*n)\n",
        "    eps = np.random.normal(0, sigma, 2*n)\n",
        "    Y   = X * (1 + delta*(grp==1)) + eps\n",
        "    return grp, X, Y\n",
        "\n",
        "# -------------------------------------------------------\n",
        "# 3. A/A: FPR трёх тестов (на ratio-метрике)\n",
        "# -------------------------------------------------------\n",
        "def simulate_fpr(config):\n",
        "    np.random.seed(config.seed)\n",
        "    p_naive = np.empty(config.n_simulations)\n",
        "    p_lin   = np.empty(config.n_simulations)\n",
        "    p_wlin  = np.empty(config.n_simulations)\n",
        "\n",
        "    for i in tqdm(range(config.n_simulations), desc=\"A/A FPR\"):\n",
        "        grp, X, Y = generate_ab_data(config.n_users, 0.0, config.sigma_noise)\n",
        "\n",
        "        # 1) naive: t-test по ratio = Y/X\n",
        "        r0 = Y[grp==0] / X[grp==0]\n",
        "        r1 = Y[grp==1] / X[grp==1]\n",
        "        p_naive[i] = stats.ttest_ind(r1, r0, equal_var=False).pvalue\n",
        "\n",
        "        # 2) linear residualization\n",
        "        R0 = Y[grp==0].sum() / X[grp==0].sum()\n",
        "        lin = Y - R0*X\n",
        "        p_lin[i]   = stats.ttest_ind(lin[grp==1], lin[grp==0], equal_var=True).pvalue\n",
        "\n",
        "        # 3) weighted linear (ratio-based)\n",
        "        r  = Y / X\n",
        "        w  = np.sqrt(X)\n",
        "        Rw = (w[grp==0]*r[grp==0]).sum() / w[grp==0].sum()\n",
        "        linw = w*(r - Rw)\n",
        "        p_wlin[i]  = stats.ttest_ind(linw[grp==1], linw[grp==0], equal_var=True).pvalue\n",
        "\n",
        "    return p_naive, p_lin, p_wlin\n",
        "\n",
        "# -------------------------------------------------------\n",
        "# 4. A/B: абсолютные оценки эффекта и CI\n",
        "# -------------------------------------------------------\n",
        "def simulate_ab_effects(config, delta):\n",
        "    np.random.seed(config.seed+1)\n",
        "    ests = {'naive':[], 'lin':[], 'wlin':[]}\n",
        "    cis  = {'naive':[], 'lin':[], 'wlin':[]}\n",
        "\n",
        "    for _ in tqdm(range(config.n_simulations), desc=\"A/B absolute\"):\n",
        "        grp, X, Y = generate_ab_data(config.n_users, delta, config.sigma_noise)\n",
        "        n = config.n_users\n",
        "\n",
        "        # --- 1) naive: просто разница средних Y\n",
        "        Y0 = Y[grp==0]; Y1 = Y[grp==1]\n",
        "        d0 = Y1.mean() - Y0.mean()\n",
        "        se0 = np.sqrt(Y1.var(ddof=1)/n + Y0.var(ddof=1)/n)\n",
        "        ci0 = 1.96 * se0\n",
        "\n",
        "        # --- 2) linear residualization:\n",
        "        #    на контроле оцениваем slope R0 из Y = R0*X + шум\n",
        "        R0 = Y0.sum() / X[grp==0].sum()\n",
        "        resid = Y - R0*X\n",
        "        r0 = resid[grp==0]; r1 = resid[grp==1]\n",
        "        d1 = r1.mean() - r0.mean()   # это разница «intercept»\n",
        "        se1 = np.sqrt(r1.var(ddof=1)/n + r0.var(ddof=1)/n)\n",
        "        ci1 = 1.96 * se1\n",
        "\n",
        "        # --- 3) weighted linear residualization:\n",
        "        #    вес sqrt(X), оцениваем slope Rw на контроле, затем разницу средних резидуалов\n",
        "        w  = np.sqrt(X)\n",
        "        Rw = (w[grp==0]*Y[grp==0]).sum() / (w[grp==0]*X[grp==0]).sum()\n",
        "        resid_w = Y - Rw*X\n",
        "        rw0 = resid_w[grp==0]; rw1 = resid_w[grp==1]\n",
        "        d2 = rw1.mean() - rw0.mean()\n",
        "        se2 = np.sqrt(rw1.var(ddof=1)/n + rw0.var(ddof=1)/n)\n",
        "        ci2 = 1.96 * se2\n",
        "\n",
        "        ests ['naive'].append(d0)\n",
        "        ests ['lin'].append(d1)\n",
        "        ests ['wlin'].append(d2)\n",
        "        cis  ['naive'].append(ci0)\n",
        "        cis  ['lin'].append(ci1)\n",
        "        cis  ['wlin'].append(ci2)\n",
        "\n",
        "    # в numpy-массивы\n",
        "    for k in ests:\n",
        "        ests[k] = np.array(ests[k])\n",
        "        cis [k] = np.array(cis [k])\n",
        "    return ests, cis\n",
        "\n",
        "# -------------------------------------------------------\n",
        "# 5. Визуализация\n",
        "# -------------------------------------------------------\n",
        "def plot_ab_absolute(ests, cis, delta, config):\n",
        "    methods = ['naive', 'lin', 'wlin']\n",
        "    colors = ['#1f77b4', '#ff7f0e', '#2ca02c']  # Цвета из палитры tableau\n",
        "    true_effect = delta * np.mean(generate_ab_data(10_000, 0, config.sigma_noise)[1])\n",
        "\n",
        "    # Создаем фигуру с настройками\n",
        "    plt.figure(figsize=(10, 6), dpi=100)\n",
        "    ax = plt.gca()\n",
        "\n",
        "    # Настройка стиля\n",
        "    ax.set_facecolor('#f5f5f5')\n",
        "\n",
        "    # Boxplot с улучшенным оформлением\n",
        "    boxprops = dict(linewidth=1.5, alpha=0.7)\n",
        "    whiskerprops = dict(linewidth=1.5, linestyle='--')\n",
        "    medianprops = dict(linewidth=2, color='firebrick')\n",
        "\n",
        "    bp = ax.boxplot([ests[m] for m in methods],\n",
        "                   labels=['Наивный метод', 'Линеаризация', 'Взвешенная линеаризация'],\n",
        "                   patch_artist=True,\n",
        "                   boxprops=boxprops,\n",
        "                   whiskerprops=whiskerprops,\n",
        "                   medianprops=medianprops,\n",
        "                   widths=0.6)\n",
        "\n",
        "    # Цвета boxplot\n",
        "    for patch, color in zip(bp['boxes'], colors):\n",
        "        patch.set_facecolor(color)\n",
        "\n",
        "    # Добавляем средние значения и доверительные интервалы\n",
        "    for i, method in enumerate(methods, start=1):\n",
        "        mean = ests[method].mean()\n",
        "        ci_width = cis[method].mean()\n",
        "\n",
        "        # Линия среднего значения\n",
        "        ax.plot([i-0.3, i+0.3], [mean, mean],\n",
        "                color='black',\n",
        "                linewidth=2.5,\n",
        "                solid_capstyle='round',\n",
        "                label='Среднее' if i == 1 else \"\")\n",
        "\n",
        "        # Доверительный интервал\n",
        "        ax.vlines(i, mean-ci_width, mean+ci_width,\n",
        "                 color='black',\n",
        "                 linewidth=2,\n",
        "                 linestyle='-',\n",
        "                 label='95% ДИ' if i == 1 else \"\")\n",
        "\n",
        "    # Истинный эффект\n",
        "    ax.axhline(true_effect,\n",
        "              color='#d62728',\n",
        "              linewidth=2.5,\n",
        "              linestyle='--',\n",
        "              label='Истинный эффект')\n",
        "\n",
        "    # Настройки осей и заголовка\n",
        "    ax.set_title(f'Сравнение методов оценки эффекта (Δ={delta})',\n",
        "               fontsize=14, pad=20)\n",
        "    ax.set_ylabel('Оценка эффекта', fontsize=12)\n",
        "    ax.tick_params(axis='both', which='major', labelsize=11)\n",
        "\n",
        "    # Легенда\n",
        "    handles, labels = ax.get_legend_handles_labels()\n",
        "    unique = [(h, l) for i, (h, l) in enumerate(zip(handles, labels)) if l not in labels[:i]]\n",
        "    ax.legend(*zip(*unique), loc='upper right', framealpha=1)\n",
        "\n",
        "    # Сетка\n",
        "    ax.grid(True, linestyle='--', alpha=0.7)\n",
        "\n",
        "    # Убираем лишние рамки\n",
        "    for spine in ['top', 'right']:\n",
        "        ax.spines[spine].set_visible(False)\n",
        "\n",
        "    plt.tight_layout()\n",
        "    plt.show()\n",
        "\n",
        "\n",
        "delta = 0.01\n",
        "ests, cis = simulate_ab_effects(config, delta)\n",
        "plot_ab_absolute(ests, cis, delta,config)"
      ],
      "metadata": {
        "id": "XEdHtszhFLh3"
      },
      "execution_count": null,
      "outputs": []
    },
    {
      "cell_type": "markdown",
      "source": [
        "#####[Weighted Variance Estimator](https://www.youtube.com/watch?v=jZNXthVqbrc)"
      ],
      "metadata": {
        "id": "1MLchd8mAhqt"
      }
    },
    {
      "cell_type": "markdown",
      "source": [
        "**Weighted Variance Estimator (WVE)** — это метод оценки дисперсии, который учитывает гетероскедастичность данных (непостоянство дисперсии) через присвоение каждому наблюдению веса, обратно пропорционального его дисперсии. Цель состоит в том, чтобы получить новую метрику или оценить эффект таким образом, чтобы дисперсия оценки была минимизирована.\n",
        "\n",
        "\\\\\n",
        "\n",
        "$$\n",
        "\\mathbb{V}(\\hat{\\mu}) = \\frac{\\sum_i w_i^2 \\sigma_i^2}{\\left( \\sum_i w_i \\right)^2}\n",
        "$$"
      ],
      "metadata": {
        "id": "QqrdGA9OAlya"
      }
    },
    {
      "cell_type": "code",
      "source": [
        "import numpy as np\n",
        "import matplotlib.pyplot as plt\n",
        "from scipy import stats\n",
        "import seaborn as sns\n",
        "\n",
        "def simulate_wve_vs_classical(n_simulations=1000, n_samples=100):\n",
        "    # Истинное среднее\n",
        "    true_mean = 5.0\n",
        "\n",
        "    # Гетероскедастичные данные: дисперсия растет с X\n",
        "    X = np.linspace(1, 10, n_samples)\n",
        "    sigma = 0.5 * X  # Дисперсия пропорциональна X\n",
        "\n",
        "    # Хранилище результатов\n",
        "    results = {\n",
        "        'Classical': [],\n",
        "        'WVE': [],\n",
        "        'Classical_SE': [],\n",
        "        'WVE_SE': []\n",
        "    }\n",
        "\n",
        "    for _ in range(n_simulations):\n",
        "        # Генерация данных: Y = true_mean + noise\n",
        "        noise = np.random.normal(0, sigma)\n",
        "        Y = true_mean + noise\n",
        "\n",
        "        # Классическая оценка\n",
        "        classical_mean = np.mean(Y)\n",
        "        classical_se = np.std(Y)/np.sqrt(n_samples)\n",
        "        results['Classical'].append(classical_mean)\n",
        "        results['Classical_SE'].append(classical_se)\n",
        "\n",
        "        # Weighted Variance Estimator\n",
        "        weights = 1 / (sigma ** 2)\n",
        "        wve_mean = np.sum(weights * Y) / np.sum(weights)\n",
        "        wve_se = 1/np.sqrt(np.sum(weights))\n",
        "        results['WVE'].append(wve_mean)\n",
        "        results['WVE_SE'].append(wve_se)\n",
        "\n",
        "    return results\n",
        "\n",
        "# Запуск симуляции\n",
        "results = simulate_wve_vs_classical(n_simulations=5000, n_samples=200)\n",
        "\n",
        "# Создаем фигуру с несколькими subplots\n",
        "plt.figure(figsize=(14, 7))\n",
        "# Boxplot\n",
        "plt.subplot(1, 2, 1)\n",
        "sns.boxplot(data=[results['Classical'], results['WVE']])\n",
        "\n",
        "plt.xticks([0, 1], ['Стандартная оценка', 'WVE оценка'])\n",
        "plt.ylabel('Оценка среднего')\n",
        "plt.grid(True)\n",
        "plt.axhline(y=5.0, color='r', linestyle='--', alpha=0.7, label='Реальное среднее')\n",
        "plt.legend()\n",
        "plt.title('Распределение оценок')\n",
        "\n",
        "# Density plot\n",
        "plt.subplot(1, 2, 2)\n",
        "sns.kdeplot(results['Classical'], label='Classical Mean', fill=True)\n",
        "sns.kdeplot(results['WVE'], label='WVE Mean', fill=True)\n",
        "plt.axvline(x=5.0, color='r', linestyle='--', alpha=0.7)\n",
        "plt.xlabel('Оценка среднего')\n",
        "plt.ylabel('Плотность')\n",
        "plt.title('Плотность оценок')\n",
        "plt.grid(True)\n",
        "plt.legend()\n",
        "\n",
        "plt.tight_layout()\n",
        "plt.show()"
      ],
      "metadata": {
        "id": "V5NW8OcTnWBR"
      },
      "execution_count": null,
      "outputs": []
    },
    {
      "cell_type": "markdown",
      "source": [
        "##### [CUPED](https://habr.com/ru/companies/X5Tech/articles/780270/)"
      ],
      "metadata": {
        "id": "MmTNM8bXAl1K"
      }
    },
    {
      "cell_type": "markdown",
      "source": [
        "**CUPED (Controlled-experiment Using Pre-Experiment Data)** — это высокоэффективный метод, предназначенный для уменьшения дисперсии метрик в A/B-тестах за счет ковариатной корректировки. Его основная идея заключается в том, чтобы \"вычесть что-то из теста и из контроля таким образом, чтобы математическое ожидание разницы новых величин осталось прежним, а дисперсия уменьшилась\"\n",
        "\n",
        "\\\\\n",
        "\n",
        "Ковариата — это метрика, скоррелированная с метрикой эксперимента, которая не зависит от эксперимента. В качестве ковариаты часто берут значения метрики эксперимента, посчитанные на периоде до эксперимента. Обозначим значения метрики эксперимента как $Y$, а значения ковариаты как $X$.\n",
        "\n",
        "Суть метода CUPED состоит в переходе от метрики $Y$ к метрике $Y_{cuped}$, которая вычисляется по формуле:\n",
        "$$\n",
        "Y_{cuped} = Y - \\theta X \\text{, где } \\theta — \\text{некоторое действительное число}\n",
        "$$\n",
        "\n",
        "Для каждого объекта в контрольной и экспериментальной группе нужно получить значения целевой метрики и ковариаты, и по ним для каждого объекта вычислить значение новой CUPED-метрики. Значения CUPED-метрики контрольной и экспериментальной групп будут подаваться в статистический критерий для проверки гипотезы.\n",
        "\n",
        "Точечная оценка эффекта вычисляется как разница средних значений метрики в контрольной и экспериментальной группах. Если пользователи по группам распределяются случайно, и ковариата не зависит от эксперимента, то при замене исходной метрики на CUPED-метрику точечная оценка эффекта будет несмещённой.\n",
        "\n",
        "Чем меньше дисперсия, тем больше чувствительность теста. Посмотрим, как меняется дисперсия оценки среднего при переходе к CUPED-метрике:\n",
        "$$\n",
        "\\mathbb{V}(\\overline{Y}_{cuped}) = \\mathbb{V}\\left(\\overline{Y} - \\theta \\overline{X}\\right) = \\dfrac{\\mathbb{V}\\left(Y - \\theta X\\right)}{n} = \\dfrac{\\mathbb{V} (Y) - 2\\theta\\mathrm{cov}\\left(Y,X\\right) + \\theta^2\\mathbb{V} (X)}{n}\n",
        "$$\n",
        "\n",
        "Дисперсия зависит от $\\theta$ квадратично. Это простая парабола с точкой минимума $\\theta_0 = \\frac{\\mathrm{cov}(Y,X)}{\\mathbb{V} (X)}$\n",
        "\n",
        "Минимальная дисперсия равна:\n",
        "$$\n",
        "\\min\\left(\\mathbb{V} (\\overline{Y}_{cuped})\\right) = \\mathbb{V} (\\overline{Y}) \\cdot \\left(1 - \\rho^2\\right), \\qquad где \\ \\rho = \\frac{\\mathrm{cov}(Y,X)} {\\sqrt{\\mathbb{V} (Y) \\mathbb{V} (X)}}\n",
        "$$\n",
        "Чем сильнее ковариата коррелирует с целевой метрикой, тем сильнее с помощью CUPED можно снизить дисперсию.\n",
        "\n",
        "**Алгоритм применения CUPED**\n",
        "\n",
        "1. вычислить значения исходной метрики $Y$ для каждого пользователя в контрольной и экспериментальной группах;\n",
        "\n",
        "2. вычислить значения ковариаты $X$ для каждого пользователя в контрольной и экспериментальной группах;\n",
        "\n",
        "3. вычислить параметр $\\theta$ по формуле $\\theta = \\frac{\\mathrm{cov}(Y,X)}{\\mathbb{V} (X)}$;\n",
        "\n",
        "4. для каждого пользователя вычислить CUPED-метрику по формуле $Y_{cuped} = Y - \\theta X$;\n",
        "\n",
        "5. применить статистический тест на значениях CUPED-метрики контрольной и экспериментальной групп.\n",
        "\n",
        "**Примечание**\n",
        "\n",
        "В таком виде оценка $Y_{cuped}$ является состоятельной, но несмещённой. Чтобы она не имела систематической разницы необходимо также делать поправку на среднее ковариаты: $Y_{cuped} = Y - \\theta (X - \\bar{X})$.\n",
        "\n",
        "$$\n",
        "\\mathbb{E}(Y_{cuped}) = \\mathbb{E}(Y) - \\theta \\mathbb{E}(X) + \\theta \\mathbb{E}(\\bar{X}) = \\mathbb{E}(Y)\n",
        "$$"
      ],
      "metadata": {
        "id": "QPl15EHvw8WF"
      }
    },
    {
      "cell_type": "markdown",
      "source": [
        "###### Симуляция"
      ],
      "metadata": {
        "id": "Pl1Bi1nb6S0u"
      }
    },
    {
      "cell_type": "code",
      "source": [
        "import numpy as np\n",
        "import pandas as pd\n",
        "import matplotlib.pyplot as plt\n",
        "from scipy import stats\n",
        "from collections import defaultdict\n",
        "from tqdm import tqdm\n",
        "\n",
        "def generate_data(sample_size, corr, mean=2000, sigma=300):\n",
        "    \"\"\"Генерируем коррелированные данные исходной метрики и ковариаты.\n",
        "\n",
        "    sample_size - размер выборки\n",
        "    corr - корреляция исходной метрики с ковариатой\n",
        "    mean - среднее значение исходной метрики\n",
        "    sigma - стандартное отклонение исходной метрики\n",
        "\n",
        "    return - pd.DataFrame со столбцами ['metric', 'covariate'],\n",
        "        'metric' - значения исходной метрики,\n",
        "        'covariate' - значения ковариаты.\n",
        "    \"\"\"\n",
        "    means = np.array([mean, mean])\n",
        "    cov = sigma ** 2 * np.array([[1, corr], [corr, 1]])\n",
        "    data = np.random.multivariate_normal(means, cov, sample_size).astype(int)\n",
        "    df = pd.DataFrame({'metric': data[:, 0], 'covariate': data[:, 1]})\n",
        "    return df\n",
        "\n",
        "def calculate_theta(metrics, covariates):\n",
        "    \"\"\"Вычисляем Theta.\n",
        "\n",
        "    metrics - значения исходной метрики\n",
        "    covariates - значения ковариаты\n",
        "\n",
        "    return - theta.\n",
        "    \"\"\"\n",
        "    covariance = np.cov(covariates, metrics)[0, 1]\n",
        "    variance = covariates.var()\n",
        "    theta = covariance / variance\n",
        "    return theta\n",
        "\n",
        "def check_ttest(df_control, df_pilot):\n",
        "    \"\"\"Проверяет гипотезу о равенстве средних с помощью t-test.\n",
        "\n",
        "    return - pvalue.\n",
        "    \"\"\"\n",
        "    values_control = df_control['metric'].values\n",
        "    values_pilot = df_pilot['metric'].values\n",
        "    _, pvalue = stats.ttest_ind(values_control, values_pilot)\n",
        "    return pvalue\n",
        "\n",
        "def check_cuped(df_control, df_pilot, df_theta):\n",
        "    \"\"\"Проверяет гипотезу о равенстве средних с использованием CUPED.\n",
        "\n",
        "    df_control и df_pilot - данные контрольной и экспериментальной групп\n",
        "    df_theta - данные для оценки theta\n",
        "\n",
        "    return - pvalue.\n",
        "    \"\"\"\n",
        "    theta = calculate_theta(df_theta['metric'], df_theta['covariate'])\n",
        "    metric_cuped_control = df_control['metric'] - theta * df_control['covariate']\n",
        "    metric_cuped_pilot = df_pilot['metric'] - theta * df_pilot['covariate']\n",
        "    _, pvalue = stats.ttest_ind(metric_cuped_control, metric_cuped_pilot)\n",
        "    return pvalue\n",
        "\n",
        "import numpy as np\n",
        "import matplotlib.pyplot as plt\n",
        "import seaborn as sns\n",
        "from matplotlib.ticker import PercentFormatter\n",
        "\n",
        "def plot_pvalue_distribution(dict_pvalues, alpha=0.05, figsize=(10, 7)):\n",
        "    \"\"\"Улучшенная визуализация распределения p-value без гистограммы\"\"\"\n",
        "\n",
        "    # Настройка стиля\n",
        "    sns.set_style(\"whitegrid\")\n",
        "    plt.figure(figsize=figsize)\n",
        "\n",
        "    # Цветовая палитра\n",
        "    colors = plt.cm.tab10(np.linspace(0, 1, len(dict_pvalues)))\n",
        "\n",
        "    # Основные графики\n",
        "    for i, (key, pvalues) in enumerate(dict_pvalues.items()):\n",
        "        # Эмпирическая CDF\n",
        "        sorted_p = np.sort(pvalues)\n",
        "        y = np.arange(1, len(sorted_p) + 1) / len(sorted_p)\n",
        "\n",
        "        # Полный график\n",
        "        plt.plot(sorted_p, y, lw=2.5,\n",
        "                 color=colors[i],\n",
        "                 alpha=0.9,\n",
        "                 label=f'{key} (n={len(pvalues)})')\n",
        "\n",
        "        # Область отклонения H0 (p < alpha)\n",
        "        rejected = sorted_p <= alpha\n",
        "        if np.any(rejected):\n",
        "            plt.fill_between(sorted_p[rejected], 0, y[rejected],\n",
        "                            color=colors[i], alpha=0.15)\n",
        "\n",
        "    # Идеальное равномерное распределение\n",
        "    x = np.linspace(0, 1, 500)\n",
        "    plt.plot(x, x, '--k', lw=2, alpha=0.7, label='Теоретическое равномерное')\n",
        "\n",
        "    # Линия уровня значимости\n",
        "    plt.axvline(x=alpha, color='r', linestyle=':', lw=2, alpha=0.8)\n",
        "    plt.text(alpha + 0.01, 0.05, f'α = {alpha}',\n",
        "             fontsize=12, color='r', ha='left')\n",
        "\n",
        "    # Настройки графики\n",
        "    plt.title('Кумулятивное распределение p-values', fontsize=16, pad=15)\n",
        "    plt.xlabel('p-value', fontsize=13)\n",
        "    plt.ylabel('Доля тестов', fontsize=13)\n",
        "    plt.legend(loc='lower right', fontsize=11, frameon=True, framealpha=0.9)\n",
        "\n",
        "    # Дополнительные оси в процентах\n",
        "    ax2 = plt.gca().twinx()\n",
        "    ax2.set_ylim(0, 1)\n",
        "    ax2.yaxis.set_major_formatter(PercentFormatter(1.0))\n",
        "    ax2.set_ylabel('Процент тестов', fontsize=13)\n",
        "\n",
        "    # Общие настройки\n",
        "    plt.xlim(0, 1)\n",
        "    plt.ylim(0, 1)\n",
        "    plt.grid(True, alpha=0.3)\n",
        "    plt.tight_layout()\n",
        "    plt.show()"
      ],
      "metadata": {
        "id": "8FPhGocuAuim"
      },
      "execution_count": null,
      "outputs": []
    },
    {
      "cell_type": "code",
      "source": [
        "sample_size = 1000\n",
        "corr = 0.7\n",
        "effect = 20\n",
        "dict_pvalues = defaultdict(list)\n",
        "\n",
        "for _ in tqdm(range(1000)):\n",
        "    df_control = generate_data(sample_size, corr)\n",
        "    df_pilot = generate_data(sample_size, corr)\n",
        "    df_theta = pd.concat([df_control, df_pilot])\n",
        "    dict_pvalues['cuped A/A'].append(check_cuped(df_control, df_pilot, df_theta))\n",
        "    df_pilot['metric'] += effect\n",
        "    df_theta = pd.concat([df_control, df_pilot])\n",
        "    dict_pvalues['cuped A/B'].append(check_cuped(df_control, df_pilot, df_theta))\n",
        "    dict_pvalues['ttest A/B'].append(check_ttest(df_control, df_pilot))\n",
        "\n",
        "plot_pvalue_distribution(dict_pvalues)"
      ],
      "metadata": {
        "id": "l43qaJig3TpO"
      },
      "execution_count": null,
      "outputs": []
    },
    {
      "cell_type": "markdown",
      "source": [
        "###### Как выбирать $\\theta$"
      ],
      "metadata": {
        "id": "t-__VpK66Y7Z"
      }
    },
    {
      "cell_type": "markdown",
      "source": [
        "**Какую ковариату выбрать**\n",
        "\n",
        "Самое сложно в использовании CUPED — это выбор ковариаты. От ковариаты зависит, насколько чувствительнее станет критерий. Можно придумать огромное количество вариантов ковариат. Обсудим некоторые из них.\n",
        "\n",
        "Скоррелированность влияет на уменьшение дисперсии. Чем сильнее ковариата коррелирует с метрикой, тем сильнее уменьшается дисперсия. Независимость важна, так как иначе критерий может стать некорректным. Например, если взять в качестве ковариаты саму метрику во время эксперимента, то все значения CUPED-метрики в обеих группах будут равны одному и тому же значению, критерий всегда будет говорить, что значимых отличий нет.\n",
        "\n",
        "В качестве ковариаты часто берут значения метрики эксперимента, посчитанные на периоде до эксперимента. Корреляция ковариаты с метрикой обусловлена сохраняющимся поведением исследуемых объектов в течение времени. Проводимый эксперимент не влияет на события случившиеся до его начала, поэтому такая ковариата не зависит от эксперимента. Главное преимущество этой ковариаты – в её простоте. Легко посчитать, сложно ошибиться.\n",
        "\n",
        "Чтобы сильнее снизить дисперсию, можно поэкспериментировать с продолжительностью периода для вычисления ковариаты. Например, проверяем гипотезу об изменении средней выручки с покупателя. Если эксперимент идёт неделю, то можно в качестве ковариаты использовать как выручку с пользователя за неделю до эксперимента, так и выручку с пользователя за 4 или 8 недель до эксперимента. Такой подход работает лучше для редких событий, когда пользователи покупают в среднем реже одного раза в неделю.\n",
        "\n",
        "Если в поведении исследуемых объектов есть сезонность, попробуйте использовать значение метрики в аналогичный период прошлого сезона.\n",
        "\n",
        "Можно использовать данные, полученные во время эксперимента, если наше воздействие на них не влияет. Например, это могут быть данные о погоде, если эксперимент не изменяет климат и не приводит к погодным аномалиям."
      ],
      "metadata": {
        "id": "XCi9nDphAnkz"
      }
    },
    {
      "cell_type": "markdown",
      "source": [
        "**За какой период считать $\\theta$**\n",
        "\n",
        "Базово приходит 4 идеи:\n",
        "1. на объединённых данных контрольной и экспериментальной групп\n",
        "2. на данных контрольной группы\n",
        "3. на данных экспериментальной группы\n",
        "4. на исторических данных\n",
        "\n",
        "Если кратко, то\n",
        "* Если размеры групп велики и эксперимент не приводит к сильному изменению корреляции ковариаты с целевой метрикой, то все предложенные способы оценки $\\theta$ дадут одинаковые результаты.\n",
        "* Если размеры групп достаточно велики, лучше оценивать $\\theta$ на объединённых данных контрольной и экспериментальной групп.\n",
        "* Если размеры групп малы, то оценка $\\theta$ на исторических данных может дать лучшее качество.\n",
        "\n",
        "В любом случае лучше всегда проверять корреляцию на A/A тестах, чтобы выбрать оптимальный вариант. [Здесь](https://habr.com/ru/companies/X5Tech/articles/780270/#:~:text=%D0%9D%D0%B0%20%D1%87%D1%91%D0%BC%20%D0%BE%D1%86%D0%B5%D0%BD%D0%B8%D0%B2%D0%B0%D1%82%D1%8C%20Theta) приводятся симуляции разных исходов, откуда и были выведена тезисы сверху"
      ],
      "metadata": {
        "id": "2mLeLJIh7gZX"
      }
    },
    {
      "cell_type": "markdown",
      "source": [
        "##### [Predictive CUPED](https://www.youtube.com/watch?v=jPysoXa3udU&t=7s)"
      ],
      "metadata": {
        "id": "HF7zsm35AnnV"
      }
    },
    {
      "cell_type": "markdown",
      "source": [
        "**Предиктивный CUPED** крайне похож на обычный **CUPED**, т.к. так же полагается на использование ковариат для очистки целевой метрики от шума, делая дисперсию оценки меньше.\n",
        "\n",
        "\n",
        "**Алгоритм**\n",
        "\n",
        "1. вычислить значения исходной метрики $Y$ для каждого пользователя в контрольной ($Y^c$) и экспериментальной ($Y^t$) группах;\n",
        "\n",
        "2. вычислить значения ковариаты $X$ для каждого пользователя в контрольной ($X^c$) и экспериментальной ($X^t$) группах;\n",
        "\n",
        "3. вычислить параметр $\\theta^c$ по формуле $\\theta^c = \\frac{\\mathrm{cov}(Y^c,X^c)}{\\mathbb{V} (X^c)}$;\n",
        "\n",
        "4. для каждого пользователя контрольной группы регрессией вычислить оценку целевой метрики: $\\hat{Y^c} = \\theta^c X^c$\n",
        "\n",
        "\n",
        "4. для каждого пользователя тестовой группы регрессией вычислить оценку целевой метрики: $\\hat{Y^t} = \\theta^c X^t$\n",
        "\n",
        "5. посчитать очищенные метрики для контрольной и тестовой группы:\n",
        "$$\n",
        "Y^t_{resid} =Y^t - \\hat{Y}^t \\\\\n",
        "Y^c_{resid} =Y^c - \\hat{Y}^c\n",
        "$$\n",
        "\n",
        "6. применить статистический тест на значениях очищенных метрик контрольной и экспериментальной групп.\n",
        "\n",
        "Такая оценка получается несмещённой и состоятельной, но при этом\n",
        "1. оценка является более мощной, чем обычный CUPED;\n",
        "2. дисперсия оценки больше, чем получается CUPED, т.к. модель обучается только на части данных;"
      ],
      "metadata": {
        "id": "Kock9UxNApT3"
      }
    },
    {
      "cell_type": "markdown",
      "source": [
        "##### [CUPAC](https://careersatdoordash.com/blog/improving-experimental-power-through-control-using-predictions-as-covariate-cupac/)"
      ],
      "metadata": {
        "id": "LgTA2lK-ApWu"
      }
    },
    {
      "cell_type": "markdown",
      "source": [
        "**CUPAC (Control Using Predictions As Covariates)** является ещё одним расширением обычного CUPED, только он предполагает не использование какой-то готовой ковариаты, а непосредственное предсказанное значение целевой переменной с помощью какого-либо алгоритма машинного обучения. Цель модели машинного обучения - создать предикт на основе ковариат с максимальной частичной корреляцией с целевой метрикой.\n",
        "\n",
        "![cupac.png](data:image/png;base64,UklGRpomAABXRUJQVlA4WAoAAAAIAAAA7QIAMQIAVlA4ILolAACQ6gCdASruAjICPm02mEkkIyKhIPT5QIANiWdu4XXjvbASGn/Cwq7cLnHzn/7D1NeYBzj/MB+1Xq8f771Qf1/1Cf6B/w/Wp9SH0Hv2d9Of9x/hu/tH/l/ZLMevGn9X/HTwO/vX5b+gP4p8t/d/67+0H5CfH1lv6/dS/439ofxv+M/cX+9/PL93/z/gf8ptQL8b/lP+K+3L9yeNiAB+n/1b/S/sL5Tv856FfXf/J/ml9AH8u/pH+5+5H5s/5HgmfdP+F/0fcC/nP9l/8P+D92j+h/9X+V/Nr21/TH/s/zfwHfzr+4f9T11///7c/3g/////+DT9r//+HvefaOrVcfZtXBPonw6dRSLxTfTzSE95O8NzEfEfdL9vJOKN7kDIz9B0TKIaOrVcfZtXH2bVx9m1cfPkQ7IAxHE61ZvMsL3GJL7KlvUdKX96MgaP2zEhQ8oKCPKCgjygoI8oKCLlQeTM6DdwFfp2zcaTMdNnClPE0NxUFBHlBQR5QUEeUFBHlBABUzAsUbUPUW5I2b/UGgWhUDRh7h3n2jq1XH2bVx9m1cfQkThRHv7v29rokz2IxbVxlkef0gMgW7MIPeK9D8dgNwc8StcOzcCCZzWWw/F1E3rW8614X+Q4vaOrVcfZtXH2bVx9m0NWjd7D+kJCKRnHsneNJVsmsX3SaPbtqmkTEYDFW/C+K+oWqHUlbkWOV1V8vceQhpv9Ob2XhiTAYGwG3iiz+kmQQxhXTKaKE4igReGleG15tecvNcOL2jq1XH2bVx9m1cfZtGk74Rl8bqXTtmjVr0ArjurAOWOopmJzYZEJVSU1BQUEeUFBHlBQR5QQfE4+WAEaCfTQA8zk3P1RrXlNVx9m1cfZtXH2bVx9mlImCv5j8RGNesxz9tT2gpPXkw3LZbdWeSU1BQUEeUFBHlBQR5QQIzCxwcYPWrjW4dChkcInRj4U2Ni+QhTGofm1cfZtXH2bVx9m1cfZtdqvJTDDIOKUu9kllB6GbutoCe0O/cRKSUKGEzTmpBe13R83VXVquPs2rj7Nq4+zauPs2rj7HNMb1JwoKCPKCgjygoI8oKCPKCgjygoI8iw3aW5OlDi0daqjhEwtWCj2wAPc959o6tVx9m1cfZtXH2bVx9m1WuPJiWOi+RXQWNnCXkvrOcMkeUtCAbtXH2bVx9m1cfZtXH2bVx9m1cdP70WA0xWmHm50959o6tVx9m1cfZtXH2bVx9m1cfO8F+lbDJKagoKCPKCgjygoI8oKCPKCgjyfeE6ukj59o6tVx9m1cfZtEQgu4Cnme46elyQR5QUEeUFAvCxU2217yMPs60tgm37JsJ6RkoiZIN35Ibq8K4+fZUwHn+P7VieZwiV3ebHO3/CU6jDvPtHVqIdQsGDGQvUFBQR5QUEWDorjDapV1EGbgc2/SbFjlXQgaCQnSWqcl7+MVWxj7rHF6ySDkUSI/T0wDeP96uraimvcMHMYeWDq1XHzsrGgrdr3/fZ6HYX8h3n2jq1DAnvNtdhtFqMcHJw5KaUbZPO3jpQlZuDSU1BQUEXK+Wx1N1EspQR5QUEeT32gkYwTLdXDuwcw3O0zqS2rVcfZtGlcPTMCPKCgjygg+RAJTVqru476mYEeUFBHdMHlzkFBHlBQR5GtZHHcId2d0sIz/Id59o6iIPNM/yEscctYE9AYaEedEcB8KR6hRSBu82JquDb+oO4Q7z7R1Y+2mCBR1CH+7zBcHadDq51+JME7ErNO1wBoCQsAlDNRiEkoZ+gplQQ8qcU29fKcn9DzBzJKRueAfsg3maes6u8Q9nIbRFepyHh1lcOzeSvbF7R1arjsKNgpQE+DZNpijfBcPWdMYRT8W0hN83qp4A8FeSOMO5mBnDgWWNlAFcazRm5xLftXb4M1m78QwZkFw4KO8tCLiD61MwI7pkBm2JquPs2rg24+4dqWECkYIYkEVwZjKeP40dQDc9FNzKvtMhINcBBCuuoAYaA6W90zo7H8rNzY73yEw1m/XBC+RaVM9fnIvxBms2cQcX2mMin0hW/qDuEO8+0dWPtpggjaFO0pUYpbE4NRIqj0D0gc9SquTAnSFTvgtr3ilalP/qGyCY0huLEa/VrSLfRTxURXzwA6KryABUTyu/auxkBPEAjP8h0z2w8OsriagoJ5dAx2oO81Ch8HH8cE9lR0c8YZeLWfB3nokR3xAgQP3Nfn9TjEoy5icBqeNgK7TZsnY6gidBI5iarg2/u2slarj7Nqu7N2d41BT1LHowvl0EjmJquDb+oO4Q7z7R1Y+2mCBR1arj7Nq4NuRx4pQTy6m8XcId59o6sfbTBAo6tVx9m1cG3I48UoJ5dTeLuEO8+0dWJuGcg5+lboJYriagoKCPIkPW4tqISDiHRq46MuMiiNWkB+Cp7z7R1YwqRPDpJ37xoyBHlBQR5QTwRXlKl3u6bXEe0dY36asjMV8tSNYEHwd59o6tX0OZtXH2bVx9m8LWHefaOv2gh3n2jq1XH2bVx9m1cfZtXH2bVx9m1cfY0AAP7/smgrrv989GRippPSirm5oQXpiNyOXhFJ6F1uBcwAybucn9VGpKRifhDt3JyEFtqZ6gaJJvYRMNmx8Fk+S9wK4yrVphZ00mH1JizLQVU/vXwRPAAZNcPPxxf4yyQHXfJLSdEDx4AFWVyRpj7ta2vZQxBhGq8wR04/A5fe/X6Smt7cgDvmJYudM+qWK9miSekNKEBmxvy9GPP5x4H1ZOFjha4m/6jRPYKPefqzxJjQio0YNmmBgAwJ5GxDaWDr/FUzG5X1fNnFJNYyugIb19bjKSww/qryiOKZnz8AdjTpbB7rZZIMRaV1/PFqSCb93lI6c44tYMXMFcC/Q4ezyhTUcL2OeYlUJTDjkN1vDohsG0C1eCcq9T52lQx7hiZCIMSExJppRUdYxUdpEFCctReZFlhA5cRNH75zpMr6cihVAQAk9p1J5wMp8NX2/u7fueP7ISWiRo1UXWHzSzF+HiKOtD15jqFhF41hdy148WKSrvwGUhFvjBSo/WkoYZ2hBe6nP/vFDLxvx29GITvZyqu3FEnn7a6/sTAATyzDPxDjK/O5i1uT7H0erGEqdFj2JMmxZnDelh3YCDUe8DT6uQJFewGS9YKUKpLmBzppDf22UEadksLnmUsgVsZCTydmIlJlwsKn481eggQb1MrbxLbVrgCCQ42bnX30/HAX3VbdvuOTKKbvKe2M09pEVHtkuJInq1HOZKW7/6GgrFXQXF6HndHrYzj0GlhqnuLbXPCKgSXdZxTBMWC8ZCdM9bDPfDecTMqG+0NdnawSJuJmQ3ho23wk4suPFuDURCZwonjqxd3bMKIuETTfXqlFPd/5+69yMFDXgbVveRRu0V0N/0+3DywiZ9sEfcwIlgObGSPT0e1YBg9jneF4oTt5rsj+gw/NXW+Rv9ixk119wXOmtbsXJxthftzoA0BUIUcdZ9f2hCLxtJduAyv7e0Y3sxJ95P7Wqdhze2boFTxGXL5jRaZ25iOV8xhlHwCkIjuxYk+XO5eWpq8BbsKDKkhFYcCMiLMQ5/WRMvzMQ0O6qTJMkLhsCvoOkCI3rFShovZD1JRoOHEecxe2ASESUpcYrKhKs+G+YUsjeuF/EhP7/s/R/m/uJZ7wY7a7f2VxkPodFH0flPgeWSr5byA3RJOcMjxlANByJdiTn/z84VakkdNif4oPGu/QRWmpax/+A68QzLnf99tSmxSm7+3t9EtEMNRKD/9tHLT70iAaT32McDtN801IAoVaN3smlCPowo8RuzGnJtTHJ5ta2lYRGGSq6o6tkscfdErMEoWzQL5BbFXW2X5IfHAARenTfzLvIAzbEjT6tEh4emWsrVd1B1v9UZ7VXZ8FbMQqWKMeeXJVeMykI5PQxAheZZnvnd2vWUkI+r3jB3IQolDwC24EdgINpnZIiTyHKSKGK00ZcPeSpopIXehRqyRZQwbAAjGxKnfWIfAT7TCPv5qXVhuQijLuvt0zM9obhDbF986VVkYn4MqhW9PU3Awq+HnulaRf6hUxSJFi5CO9Y6quk/3DBNTQHgBPbz67zxACx0jfhGehgcqIqooAsJkuw9Lx6ctve4jiC6O9yC2eMFShnYJ8Nr1L84M3iUMsR72hWK3iQVZ4P6qPbngt5hCwtiM2vkq+EmhZPcxVo6Q0V7T6ms8fnjVKpK73guQYCyzkgbqn0OyIFUW9aQ4rFGtWiHe03AKY2t8DyzK+AuQDmZBigkui6gR++x1YUHnmL2Iz+BjnBYZifF469Gw87y7aZhPbKiwNXdregIo/2CV+pyghb6aIdjo7XW2VklL2y3tD6wZztiZJYTGAJHu+fRLEwUHBkSIZrn/BnAMttl6M+e5g58Xm5nzTBLKIgL0o+EmFobxWkljoaZEbnQLMI9Nu6E4YGHjEDJQ2bC57vP5GVwHAcB5ekaIussp4PDLwLvVUGkwF+aNPd/+3kV/OnnmMOB8uRTsnVFK7cBhBMqAfeZFKh6SqppygKb5aSqEXp038u1tf3wqFOhzLwHp2VUHuEhj6BY0Cy5OWNRTsn0mSp4idMOXjwnExr6mZxiNyFP1m1gV3jyedEWywfCg86IxmvG5GvD6csZ0NWXQDX4X5e76CCUOHYiTeMPOtAQuW0yW3YrNL6IgwQhyUMRx/dNEqQfeBRl0E4TlB1mHJAR0+fWR2DNnVJfNAOJqek7X7/4L84VKARJdEL0YIftNGUYbAoYK8m91CH2SAdFvP2bTk1gsUNRArFAwdtdUWPx9GxGqWW/xUlVVbHBbc0NXeDFnrhGMh/21U4Dcy+8w4TpZyd9x9YsKzH7aqmYNC1cXPbEGVtt0D4VHy4LmlMFognWg5OcgeCU+z9PFSxKjOMfAKFWlHAo/wbBJ2R9k7P+LDoKzwKdPiMrYAt0LYwlH1AxTFt3IOqwXg94NeGV6PSRPxBYAaJvavCG8lZdwpppjG1OZQA0SYCeRI3IsEmWh7RYSiTdwVNLOAmc2VE0HM7CsD6LnuFtqLI/16JLmLMrBH/OUQr9bP0uU06S0JOU1Qe0mYuiQ9hG2bw9QEzjFaXZWH+360osDzeQwsCMsCWcxBYPyc+bH4o82KClFd+ULVZxywAHGXSG2M9jNGMFkn5mvzxIl6PXoSc43a5PxN0H2Rdiw6uS/uksuemNoYdGjw8BynnshOtUefBts532kqIXsRwD6NAc/maOiQQKhzux9uukLGap00WUbaUDcjgMw92RJ/2ZJ8W5JcD8fP0fyYoLhTCz0B9fqvcsETa5VYss2DHGQfHcAC41+D+pYc4zorJDFF+x1/G5ThP38At4xgOv7nOEooQFZ85TztUXogb4N+vvGg3LNRP24NkBDAFZEQW9x9qQAORVNpKcQCYKyHn26CXDtshftHpYuSo9TlnKth8Jsjt1l0R23Cy6OVrW3BRlTXhM3bDEL68mBeiMrxq//O5V4spNPhZy/b1p9I7jswv76jJhWGlnkTw/dn9kTDsnqUEuSET5/E98RBYSi4lkkjAXfR9Q6jAzwgsz+gTfynxHuCvZ2GDNCiSjRsvxhgIKhbK7f2bW2zAgQiPVKpqY1uf7ieM+p2EAg6ODAd1HvqVktggt6TYbjC3kpVXuNoSXh4luq8Ja/Ipwawpr2nI/GZI1Tvqev7j9/YTEbPAwlVIxybgdJoBXLwhVTMDEJiDLaNn/mSJ2ZERoxuKOTiizuHFxaAAnYTwFrEC29FSTr73V4S14Jzdiwq+fLD69A8FODldK0JP5s/z2iywAApIJ7VO45oPlYKhyJ51T1tLN5QOdp8olmb81yCmEriCam6btG8h7coh74s7414ZJkQafrqDXniCG+/GuxMK4FRzQKkjicYSjCSAqe+ND+6osW8gxfrDsghDtgwcNWqbQNXlHd5mXY+bLRaoDfykXHvVEcboQLv7q6beeIXyVomBw+HO81tXujDNyLfUz2m/jE/Og7CAj8KRKk00sKgAC9ubODrCXVZphNtQ6yWHrHzZ3iQ06ITDq7Tgt5CnroiM0mVm7MVn5husibZ0s9lJMXnrw1qI3ixM3x1qYFV9bk2wiEKCECuhNgk8BMVsB194DGq/Y2IkRImyTOWVI5PezuQnzQC4ImsuAaawU0EFUfFL55bYFw95nB6PRA/3V5fxMjTv3xne5x1hjJzLCLK9Kpgkzb8daqUVieYgZtlNbOCLisB+0OBfzYxHI0a9L5lgikPSAvlaBmqhsNmsQpvV5o+rLB9P0ahWc2xPqfQHYADkyiitYS9E3jmpNgf8PaIzg06aZ1/P2GNCpxtmYjLxv7WLfrDgvEE44zPWOwBp4MjvYYfa1e+eKQri/mIl9Ndwf2uamCmJJm/P9LjhmCtKA+AAAWovu9epcfm2vr0Kh81ehkEzVQAAAPjr5oLXeRtMfz4EKU0MWxHrKE34GEGvxfYN170+5fRzAnxrT9HVvBAVEY7QQVX5hF6XNbqtA+/Hhs/zFVcevIGT3/S70hqEQ/X8aDGxZUeRuMZTr8ScGlG344yX5NPzXpYx85aniw9OgmBnzKrtcXxn2SnUo16frU8f7nDO8gJbIr529f73bFFkRRdFYXiKd95N/Zp2o9RHrOe0Fzowaa9nai5U6f5oLa7K8dhDj1y+g52X/KnpxKWmVzGWEb2VWt3PET2neZiu7593gee3KKCh42yBfmsxqw+VcBuUMMBeHSQ5rgrwZnMDx+/7zO2E6+rJrIaLrcLdYP7nYDa71byIUe7rwcpGy3Y6JcFq+IBEZJJ9MzDim8ujrrl3EyTRt6YxrkzUlt7DViGoJQH33UJcx1wOZOpn4ZiRFKq4vjyAbdB+pNaX6srnAFIeew97mYBoxMqAeM1BwIP2LxGlKzhq1entiGNOTFH8i8QyYnVCBYBIlw4u471JtM0dssS8Xzx+C12YimybWbJBLhkWi4moRGTTugQ4S4VQnOFshE0UuL6vAOeg9pWVHLbLmu8Kreb8FcnpqeWB228ApAbkPa5sHHyaXlXYuako9isDFnIaC95lYL0Aqhw4ZNzxrcn6eJXgnEn+AV/8iKqb/swyVGb0eSZLalOPLXowcBLk4sk6Fkl89m7+JOTp5Affist+hvBHtqCgwj8wttZnMbF8KiHsj9ap2/lr/QKhD8Mdq+FMs5j7Bw6XxTJFOh0/cMuMoVMNRFVMbvn//PK+DvQpUrbD8087ndhqzVelUbMPEIvLHFEU0N9GQ0DFJ55rCXfeDHQAfQOPkPP64bLcIO2wh+aXauWjIoyEPskA6SfKGBH4uUQDulRK85fBlcnl3N1QHctkYvp4DXDOQ/5FwBUO2jaeLm9IsbekChNKf7F5N99duLCiAFFGY1GrpskYm3i04TZMDcMutHwaJXlzBJ1s9cV1mil1n5Ot0jzEnyMxd6zbKYntBaMHh59lGpNeg526np/AY+30G3h6YIW58zYRRq7tIafPSuy4QspV2K+qc2KGo5j+rDfO/oFNUGZcuIbDpXveiEcS0i37+LA3Ew1qDmTLi0e7aEzXndXzYL7r3yzscc31OE10lvcJlhNNyN8wF5y1tkKCSq+F5qLGT4l3CvfrDdvLFC6mIVN3Fqqimeac1TqxGzNN4TOVLKw2Mj9dHU5o5fvgC43DQVQhM2nmoNBskoyMnf9vMwrjAnIWlq3lgf4K81359BGXF3qUbYk54wY+a0PQYwb/M+bz+Nk7I6IRtv4OLiZeR72J0F8jyAAyha8MoXBtYAfyjyDrUllGVsc80En8l5QE+WEkDpFiRWsj3U0rg++aA8Z80z4KrwtWNcQtnSdBqpJ6vRB/t5iNSMaPyO3bPWMIjfhR2ZXSU9+CEv3w/yaBW5LiDyLJmGT1QZn8tSg8lidwNdRV9ZkbSiI58Gxl/uHTe6iuuEL0Wsge0Yi/f73/yWJrXlrRcC4qh66PAZqTRh5AJRKRnfe0Jn48TxZLir5RQhJ1VqrTmDS0GvXK7uFAS1+AAqbDf3iEc+RM2QHcMxeB5onE9eUTltFPh5cEZCsKwgYByVNiVXrVepLmH/6pzBZ9TKSBPu8reIxfUSMwN84cU9AAmAg9aeWDsr/ZADAPfd4OfQS92alKAvGwAC4GZwjGLaeJC7giKHb9lvKVv/TFEJ+mLl2+znSXgD5NvihI6bk3yHf7KSv7ZRBIL9wEiSW8QAEqTTd8niaqd7klgaCs6+gcCf0H98EZEPdKVvS95lexF8MVy7w7Gcu25ou/KE2e/3+JIRaHzojPC/v9LmFodyUfidN8qZ8iX3/nLkIxv+p5dwqWG+2Lri0bG3faq/VmD/UwUe3upYF1lzO2RqZlgtYdSAnU6OvN/2tYZHfybKthTB3dwBPaBzS/eYuqHwqXxGEPG3rIn0Zs2KH2iOsJJsi/Pc6KTPeIiGEYr8+I0638jWlzIzMDbK8W7CtJRaoP7qhM4kugxrxM+DVbBoTWyfaDOmWn2BrYoEGNMKhUCSs8/eTmeDUArFsxpIVVH+dx1SiTUmYjMIJGfqtsbJEAJygGSLJOpDnl3Zyg0MJwMWEWxGLcPvrrTZthkZ4dM4lkul8uQDkxBiCs5CwmcWNml3XQpGVtMgaNr1d/Ludaz9cfadCxjEtioCxtXrTBjKkHYzF6dgGIMbDT5C+v5yRMVUBBR7Bn5/YLxwWmmAyy2kovV8yZaftbdItVHoPhDvc4Oy3h1FVIWRLlUmEdwJoQXFwdxjTrX8M7LffHdojiAxFVgdYHt2OPIdO2Xc3iButXCqcORymG14y7yZN+lXnKK8+uJ7+aFK55Y9TmMXza5xvH41EyZnhPBs28CCKZepGNxF6lxlvbMB5ZJ4ZSakgd0wpRkPe7LFOfmB/z/vKEifSecERXXFqeEFEjGn0bDAeFhEFJAlNp4mZ/Jgk1+VAw6oC9Xsmb3nEuNKjRp4l1Bkimpnolzt5LsEc/vLWtQ2MZDnqJc4SP6YXzfYtVoSxw6pSMCbqS8s2bLYhLdL61OAxMbNvBi4sNA0rjanhfgN/KHFxpNMDOw9iJVipdP451whX2kLEbiUtLy1pIwaXxjOitkSdrpuYr+wKOha+Tn2e2TlnnSCaC0oAguUObCJr/JFOfJ3kh/fpDnHb/5ltjwftoI/goEBs5k2VJIbiZRABhA0/+d7veEX1x48+SijI8TzS8p5E21OElb6ZQYt7S/YaGM7gyUb9xyRleRL5fIKZsVDRN+LjUSt7gSuaN0NfCUoVQTnlS5fkJam9Y5itmWuQ515kDZeBcsZLfUgDNCQYMS+RD/Kc5sIeJKjB92/Hx9yhadQc1PeICdUkW3W85otiBv1NGpm77AmYvvxIuzOSdVtsoFOI55vO1ESYAUJidyglMxxR4/TbsZMv5USWRIJWT18V5cL75P9Bzes+6I6wPxK6LjWA8QyKBeao+9zKAUieNT7W4pyb6IBMFpcLSvt+1DL0wANjdD84E3zYtqpmSCX8BW2jV1CoRKCS0f4zogpMTFZagLA0bBXFAUHX8v+75byM30j3RIqZqcjcaTRX0J0nh3S1jKhnNSonB2CyDyWnjXCczq8WCVUg+rGfQ3qRdR+78RIfJmba5eNEEcihkcwAHA/bLtsQjMcwOiu8v/SBA8dAjWQt/oid6GzI2lzxGTjt79aKbVugKlmAQlHgVbxu8hAQCHLkKxPFrwWfxq7wJ5GGV1Gdrss3gQUKNnXZqQHSaNDmH4OnIR9jT57WwgcrPa3qC4eTHMlWLebyRcVQz2MwT/nk1euKiERgFaGyUF3paRgp4WxQ51I4mHTre4JW9eAp/Cz3tyyOs99dVv7W1OK0S1IziUh2OaxiRbbh1oLCe6bpxTccUMNlmmEmzqbp62K2g/qdc1H07Gy2C6ICJcB0VV1s7a18bCeojd1GojFD7/Bu4XpB9Fm+wtG5u9hTS9wuROIqnP13W74A6mqUd/9MFYbfblflvvc3ePbe0sMhL2QncnnOGGv6aivunfYwytW2jSrFE9KmNMR1tzLr9KH1F2uVdeZgp4FLD1gGT4TrbxCpRp5JjbNpd/33E0ROwDyajVG8gXuzxeoNRhjmYNgjJMDT3/BVL5iLnwcuCAs7xEsZZfr7khJBh6jF2WNZKbRDZTxSkT44co1D6qWcqx+9lhQiDcw/Jh7RkbtfpCUAl2Qf6O13wYxJfNuJkZ5h7Oz8iuWZsa/XzNqRo9ObjOIgTxgdPMKntPj/HTilTMlfAZfH4+tkMi9EP1wttKmrmxmSvZNcJAwmptVxnaglTx/zBjkCB6s68Xk8KERv2AtnNNcGXMQ+OWE6lSVNw1EZukBkLYEOW4PDc2vmWI9uF+n+q0lhhvgPA9A9FmsSt37XE8VXe9mKz29pfosu8scZzOWN81N/TudtHTHjPmpN1VmANuD6DJW6VlfinZCkf9p2DY0ROQELdl7HVFEMXc2q+SWINK1g51rHNBvpus6tY1kEUNxCsBpfFyL/hR6GwqIM3kD1vis2awT5ofl/8/Hjle/HZJhZuH5vn/IwqQ/kQUjPP/SPUKW/4bVa5MummnkkZNzumMzknHA31UI4Yaguc7xnqPS5pa2xU09FPgIsc5VxKkaeCm11LSlOr3ShxVTtYQe5QVanuUi+CMm8DGM9sJ9Bygyuk+u9DkBedYBXkKN4wws8kkodqQiMbwrnT/P2lKrLp8iJwBv83Kjde2xn70kub0QZ1S9LATQMQm1gFVbMP+2HmFUbx+fOzR/RY/tR3Syqw2w6JrXxc6xnT8GvXlYEqKtetp/xVIlWr/kqgl8DKR4lLw9o/TD1ooxlGX5/8fP0CHRgZK209srjixg8T1NkmuJ3KPRjEG+P0blSzFQN7hAmxdrNRRFpNDl7KVr9n/uHxNlOTJv0Pbwbnz7fvmf3cAnOo5g0GT7w6S2uUECW2+Rn0HoyJv09WVtHkeaJedy8hatCBN8fo6j6VnK1jOZVmy/KM7MW7zptgm02vvncaXkaGP5eX958FRGhY63GEtQtE3K48xBRj7nj65DjQAMDDAULU38kYh/OsX7cXR98fA4o8JRwrMLDN6TtzNEDWBEVxx1FcNC6MaS6XPMpSRN1uA5XCg32ApA0KBEVwH0RMxxm7HmYmm4BIgfboF79S1WJvn88JvUpO+Zig6QAemH7wECtYoFu70qluk0A2dmyiP9i/DvSPYovy7Y23ktG1fsv4GhLHtxMvMmmpGFeyd7LXQZi0gGSUNR7LJIl7Ve0cz9xKx10z2EhDNHwZc71vn7qpPguTi+1lEbX4OAaCSp4dADfZrhjBKEvpuHI3UKgCg8al0dUlyrCn8OnWungizDy9a+gekOz592cjCmqGK85MgKOBNLx12Fp905tnePi+yR7lJNGZjkhCCveAdsl1AKsJ9CxJXx/hKIVCZ53u9ZVn9O/kDF/QnFG4exN3u4RuOzIAeGlQqH77xT8HczUsiAXxT68zW88Xx9vV/T8dICJfB82FEITVZ1XAAEbTr6RYBOx68hsS4rrEqpi7/fHpxLRHvylAdXGpWltp8hRAl5oOnRvgPYIaoE3dHrgH2lxR/GQdgZ1EPBb0NQ93Tf+H//2HAS666hSfHq0+jdIHYwdqHookB/enxjpqf+Vw2l5qstpSl/8aVkSsRjT7+A6NqesyUQA9YtEy9cAjjpLupaovQPFmS8zqUtts9+InDl/u2YlXMii2keoTtfm/Gq4ICzNGJLV1vJnGrFeTPO1TJ8XtRfX1TZHJQfxNjpk/q6ANWoMMEbd1vesNLe+s6VsbovGPVfa0Gz9Un0dMkHBK1l4181f+SedwZUiddrmV7uo8IVXDXSLeeDRT5dgelZEpWduhtmrwTa3Fx/P7/6dJX2u1BLCs9UQcbLv7K/npTME6LGOf7sOEqCSXItq27Sv1i30k5HRSpyZXVG3hH20fuz+r9GPWRE9qqsGWjfJuykcqLcFsvSB1YZ0rHNBbQIujrdfyTwU1XoikHkZ7sEwRNQgOEaSc+8fe/DXJQqUewBGOjXm0jkDRHd2VNZQRvN680uGhSKdzpXIwFUDaHUAOYFSZ9N/7bN1PdgS/WHaD6ylpz/IFWbp+RPjDT36gMert0bvyQuoiUvlMcxQr6ieH6Zy5j49VapzirSguly6La2e7JnK1KG+ONE1tlxSe7L+/Ra3o9v6NkRjb//XvyL5kaCul3Y90tZt1tpA70HKrbuKUcoOXG4eai8dW+IYzQjPfrPyUx6e/2Q4YGb8V0bX/q4krXb257e8cwaydwNQRj4+wsHkcmrhEDJCVNCA0hhDEOMk4rjYzQcwei5FCnTAjmdoeOpQPXmN63pnwGe8s4wH+P3QoiQKhl+jPjIBXJvsBuESG4BCVTaifuPFofoL2q198p4b8Hkdf71IyfnwW5plCmVUsOVT1GhlitQpOCNdAjUPuxEky0hu/J5FyivdxwUFPZZgjGW7alzjJk3Ce+29dsDXk7PhUB6/uZ177vchIxHyWd4EtU6cTfGAHSUnTL8qjs9s3bpHXmq7HsXrrQRIRK6EQG9vjhFVuxlrXd8i6y+NntKQ4BkcFQeIEiW0mtZHHlt41wa0yG5VfWVHEygmBeuawCUQDHBKKMfVMY8L/S7roUjTHWO+RyKEVeb0JQbw054IsmWJQAlay10yG/mUI7hwUAkAGkatnRIp5IySAbnFAaggLu+gv7wxcro5SvuifiacdqeTqsLhke/FYyL72yawLeZfRktA5WeVSMmzgfDLDhY+6baR8RXZjezxubyLC70BEKbQcNMFViHBlWhzIMjTf96M9zFxDB/wgdvriL+ISh/DRMeihgR9e8AZb0tXrByVXh5vCDFhysFqIJ+Vn28NPeQnNZJn6cuXKiwQ0H/lG9V7pnhflb9h5Gf2LUIBja3QLzxF+Y6aYoBzkyOIroRgzwUI8L28WZMimkR9u5QAAAAAAAAARVhJRroAAABFeGlmAABJSSoACAAAAAYAEgEDAAEAAAABAAAAGgEFAAEAAABWAAAAGwEFAAEAAABeAAAAKAEDAAEAAAACAAAAEwIDAAEAAAABAAAAaYcEAAEAAABmAAAAAAAAAEgAAAABAAAASAAAAAEAAAAGAACQBwAEAAAAMDIxMAGRBwAEAAAAAQIDAACgBwAEAAAAMDEwMAGgAwABAAAA//8AAAKgBAABAAAA7gIAAAOgBAABAAAAMgIAAAAAAAA=)\n"
      ],
      "metadata": {
        "id": "YSX4cV49Ayuk"
      }
    },
    {
      "cell_type": "markdown",
      "source": [
        "##### [MLRATE](https://arxiv.org/pdf/2106.07263)"
      ],
      "metadata": {
        "id": "yjVwEWGGAyxW"
      }
    },
    {
      "cell_type": "markdown",
      "source": [
        "MLRATE (machine learning regression-adjusted treatment effect estimator) был предложен Го и другими исследователями из Принстона и Facebook в 2021 году.\n",
        "\n",
        "Подобно CUPAC, MLRATE также использует модель машинного обучения для прогнозирования $Y$ на основе $X$. Назовём прогнозируемое значение $g(X)$. Вместо вычитания $g(X)$ из $Y$, MLRATE включает $g(X)$ вместе с индикатором эффекта в регрессионную модель, а затем вычисляет эффект с поправкой на регрессию. На рисунке ниже представлена эта регрессионная модель:\n",
        "\n",
        "![mlrate.png](data:image/png;base64,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)"
      ],
      "metadata": {
        "id": "88z4W4KDAyzh"
      }
    },
    {
      "cell_type": "markdown",
      "source": [
        "**Алгоритм**\n",
        "\n",
        "1. Разобьём данные $(Y_i,X_i,T_i)^N_{i=1}$ равномерно случайным образом на $K$ групп, равных по размеру. Тогда $I_k :=$ индекс $k$-ой группы, а $I^c_k := \\{ 1,2,\\cdots, N \\}$ \\ $I_k$\n",
        "\n",
        "2. Для каждой группы $k$ обучаем ML алгоритм $M$ на данных $(Y_i,X_i)_{i \\in I_k^c}$ и пучаем функцию $\\hat{g}_k : X_i ⟶ Y_i$\n",
        "\n",
        "3. Считаем среднее функции $\\bar{g} = \\frac{1}{N} \\sum_i \\hat{g}_{k(i)}(X_i)$, где $k_i$ - индекс группы ,содержащей $X_i$\n",
        "4. Считаем $\\hat{\\alpha}_1$ OLS оценкой для $\\alpha_1$ в $Y_i = \\alpha_0 + \\alpha_1T_i + \\alpha_2\\hat{g}_{k(i)}(X_i) + \\alpha_3T_i(\\hat{g}_{k(i)}(X_i) - \\bar{g}) + \\epsilon_i$  \n"
      ],
      "metadata": {
        "id": "rKka8J1L5L0f"
      }
    },
    {
      "cell_type": "markdown",
      "source": [
        "#### Культура A/B-тестирования: когда процесс важнее математики ?"
      ],
      "metadata": {
        "id": "n82W6WY7AARl"
      }
    },
    {
      "cell_type": "markdown",
      "source": [
        "В мире, где каждая компания мечтает стать data-driven, A/B-тестирование превратилось в нечто большее, чем просто инструмент принятия решений. Это философия, образ мышления, культура. Но парадокс в том, что большинство организаций, зациклившись на статистических тонкостях — поправках Бонферрони, методах CUPED, стратификации — упускают из виду главное: скорость и качество тестирования определяются не только формулами, но и тем, как устроен процесс.\n",
        "\n",
        "Можно годами оптимизировать дисперсию, внедрять передовые методы анализа, но если гипотезы неделями болтаются в почте между менеджерами, если платформа тестирования требует ручного вмешательства на каждом шаге, если команда не понимает, какие эксперименты уже запущены и как они взаимодействуют — никакая математика не спасет.\n",
        "\n",
        "**Почему культура тестирования важнее, чем кажется**\n",
        "\n",
        "Представьте: Data Scientist тратит три дня на расчет необходимой выборки, применяет все возможные методы сокращения дисперсии, запускает тест — и тут выясняется, что маркетинг уже проводит кампанию, которая влияет на ту же аудиторию. Или что метрика, которую все считали основной, на самом деле никем не согласована. Или что результаты теста не могут быть развернуты, потому что изменения не были заранее интегрированы в CI/CD.\n",
        "\n",
        "Такие ситуации — не редкость. Они происходят не из-за недостатка знаний статистики, а из-за отсутствия четких процессов, стандартов и инфраструктуры."
      ],
      "metadata": {
        "id": "WWy7UfzeAHi8"
      }
    },
    {
      "cell_type": "markdown",
      "source": [
        "1. **Шаблоны и стандарты: как избавиться от хаоса**\n",
        "\n",
        "Одна из самых больших потерь времени в A/B-тестировании — не само проведение эксперимента, а его подготовка. Бесконечные уточнения: \"А что именно мы тестируем?\", \"Какие метрики будем смотреть?\", \"Какой минимальный эффект нас устроит?\"\n",
        "\n",
        "Хорошая культура тестирования начинается с единого языка. Вместо долгих обсуждений в почте или чатах — четкие шаблоны. Например:\n",
        "```\n",
        "Гипотеза: \"Мы ожидаем, что увеличение размера кнопки 'Купить' на 20% приведет к росту конверсии\n",
        "в покупку на 1.5% для всех пользователей мобильного приложения, потому что текущий размер кнопки\n",
        "ниже минимального рекомендуемого для удобного нажатия.\"\n",
        "\n",
        "Метрики:\n",
        "\n",
        "* Основная: конверсия в покупку (ожидаемый эффект: +1.5%, минимально значимый: +0.8%)\n",
        "* Контрольная: средний чек (допустимое изменение: ±3%)\n",
        "* Время проведения: 14 дней\n",
        "```\n",
        "Когда такие шаблоны становятся стандартом, исчезает крайне много бюрократии."
      ],
      "metadata": {
        "id": "sdQJ0-ytRRhp"
      }
    },
    {
      "cell_type": "markdown",
      "source": [
        "2. **Автоматизация расчета: когда отчеты генерируются сами**\n",
        "\n",
        "Второй бич скорости тестирования — ручная подготовка отчетов. Data Scientist тратит часы на выгрузку данных, проверку аномалий, пересчет метрик. А потом оказывается, что кто-то забыл учесть новый фильтр в данных, и все нужно переделывать.\n",
        "\n",
        "Решение — автоматизированные дашборды (расчёты), которые:\n",
        "\n",
        "* Считают метрики в реальном времени.\n",
        "* Автоматически применяют методы сокращения дисперсии, поправки на множественность тестирования.\n",
        "* Показывают не только статистическую значимость, но и бизнес-значимость (например: \"Эффект +1.2%, но доверительный интервал включает +0.3% — возможно, изменение не стоит внедрять\").\n",
        "* Отправляют уведомления, когда тест достигает достаточной мощности."
      ],
      "metadata": {
        "id": "xTJQ8qbGRR88"
      }
    },
    {
      "cell_type": "markdown",
      "source": [
        "3. **A/B-платформа: конвейер для экспериментов**\n",
        "\n",
        "Без нормальной платформы A/B-тестирование превращается в рутину. Хорошая платформа должна:\n",
        "* Автоматически распределять пользователей в бакеты (с учетом слоев, чтобы тесты не пересекались).\n",
        "* Интегрироваться с системой развертывания, чтобы изменения можно было включать и выключать мгновенно.\n",
        "* Хранить историю всех экспериментов, чтобы избежать повторения одних и тех же тестов.\n",
        "* Позволять настраивать сценарии тестов без участия разработчиков (например: \"Проверить три варианта заголовка на главной странице\").\n",
        "\n",
        "Когда платформа работает как часы, команда тратит время не на настройку экспериментов, а на их анализ."
      ],
      "metadata": {
        "id": "obMmFZkbRR_U"
      }
    },
    {
      "cell_type": "markdown",
      "source": [
        "4. **Календарь тестов: как не утонуть в трафике**\n",
        "\n",
        "Одна из самых распространенных проблем — конфликты тестов. Маркетинг запускает промо-кампанию, продуктовая команда тестирует новый дизайн, а аналитики проверяют алгоритм рекомендаций — и все на одной и той же аудитории. В итоге результаты невозможно интерпретировать.\n",
        "\n",
        "Календарь тестов решает эту проблему. В нем указывается:\n",
        "* Какие эксперименты запущены.\n",
        "* На какую аудиторию они влияют.\n",
        "* Когда ожидаются результаты.\n",
        "* Какие метрики затрагивают.\n",
        "\n",
        "Это позволяет планировать тесты так, чтобы они не мешали друг другу."
      ],
      "metadata": {
        "id": "-N5y1HJXSMPz"
      }
    },
    {
      "cell_type": "markdown",
      "source": [
        "5. **Слои (Layering)**\n",
        "\n",
        "Когда тестов много, а трафика мало, без слоев не обойтись. Идея проста: пользователи распределяются не только по бакетам (A/B), но и по независимым слоям. Например:\n",
        "\n",
        "Слой 1: Изменения в ценообразовании.\n",
        "Слой 2: Новый дизайн карточек товаров.\n",
        "Слой 3: Разные алгоритмы рекомендаций.\n",
        "\n",
        "Если слои ортогональны (не влияют друг на друга), можно запускать десятки тестов одновременно."
      ],
      "metadata": {
        "id": "S_YlXMr7SVxC"
      }
    },
    {
      "cell_type": "markdown",
      "source": [
        "##### Заключение"
      ],
      "metadata": {
        "id": "YpwRhXTtSlfr"
      }
    },
    {
      "cell_type": "markdown",
      "source": [
        "Культура тестирования — это не про инструменты, а про людей. Можно купить самую продвинутую A/B-платформу, нанять лучших Data Scientist, но если в компании нет культуры, где тестирование — это не разовая акция, а часть ежедневных процессов, все усилия будут напрасны.\n",
        "\n",
        "Культура тестирования — это когда:\n",
        "\n",
        "* Продуктовые менеджеры формулируют гипотезы до начала разработки, а не после.\n",
        "* Маркетинг согласовывает кампании с календарем тестов.\n",
        "* Разработчики сразу закладывают возможность A/B-тестирования в новые фичи.\n",
        "* Руководство понимает, что не все тесты дают значимый результат — и это нормально.\n",
        "\n",
        "Когда эти принципы работают, скорость тестирования увеличивается в разы. И тогда уже можно заниматься тонкой настройкой статистических методов — потому что процесс больше не тормозит сам себя."
      ],
      "metadata": {
        "id": "S-YS4U6ERSB9"
      }
    }
  ]
}